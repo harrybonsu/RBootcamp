{
 "cells": [
  {
   "cell_type": "code",
   "execution_count": 1,
   "metadata": {},
   "outputs": [],
   "source": [
    "# Dependencies\n",
    "import requests\n",
    "import json"
   ]
  },
  {
   "cell_type": "code",
   "execution_count": 5,
   "metadata": {},
   "outputs": [
    {
     "data": {
      "text/plain": [
       "{'count': 82,\n",
       " 'next': 'http://swapi.dev/api/people/?page=2',\n",
       " 'previous': None,\n",
       " 'results': [{'name': 'Luke Skywalker',\n",
       "   'height': '172',\n",
       "   'mass': '77',\n",
       "   'hair_color': 'blond',\n",
       "   'skin_color': 'fair',\n",
       "   'eye_color': 'blue',\n",
       "   'birth_year': '19BBY',\n",
       "   'gender': 'male',\n",
       "   'homeworld': 'http://swapi.dev/api/planets/1/',\n",
       "   'films': ['http://swapi.dev/api/films/1/',\n",
       "    'http://swapi.dev/api/films/2/',\n",
       "    'http://swapi.dev/api/films/3/',\n",
       "    'http://swapi.dev/api/films/6/'],\n",
       "   'species': [],\n",
       "   'vehicles': ['http://swapi.dev/api/vehicles/14/',\n",
       "    'http://swapi.dev/api/vehicles/30/'],\n",
       "   'starships': ['http://swapi.dev/api/starships/12/',\n",
       "    'http://swapi.dev/api/starships/22/'],\n",
       "   'created': '2014-12-09T13:50:51.644000Z',\n",
       "   'edited': '2014-12-20T21:17:56.891000Z',\n",
       "   'url': 'http://swapi.dev/api/people/1/'},\n",
       "  {'name': 'C-3PO',\n",
       "   'height': '167',\n",
       "   'mass': '75',\n",
       "   'hair_color': 'n/a',\n",
       "   'skin_color': 'gold',\n",
       "   'eye_color': 'yellow',\n",
       "   'birth_year': '112BBY',\n",
       "   'gender': 'n/a',\n",
       "   'homeworld': 'http://swapi.dev/api/planets/1/',\n",
       "   'films': ['http://swapi.dev/api/films/1/',\n",
       "    'http://swapi.dev/api/films/2/',\n",
       "    'http://swapi.dev/api/films/3/',\n",
       "    'http://swapi.dev/api/films/4/',\n",
       "    'http://swapi.dev/api/films/5/',\n",
       "    'http://swapi.dev/api/films/6/'],\n",
       "   'species': ['http://swapi.dev/api/species/2/'],\n",
       "   'vehicles': [],\n",
       "   'starships': [],\n",
       "   'created': '2014-12-10T15:10:51.357000Z',\n",
       "   'edited': '2014-12-20T21:17:50.309000Z',\n",
       "   'url': 'http://swapi.dev/api/people/2/'},\n",
       "  {'name': 'R2-D2',\n",
       "   'height': '96',\n",
       "   'mass': '32',\n",
       "   'hair_color': 'n/a',\n",
       "   'skin_color': 'white, blue',\n",
       "   'eye_color': 'red',\n",
       "   'birth_year': '33BBY',\n",
       "   'gender': 'n/a',\n",
       "   'homeworld': 'http://swapi.dev/api/planets/8/',\n",
       "   'films': ['http://swapi.dev/api/films/1/',\n",
       "    'http://swapi.dev/api/films/2/',\n",
       "    'http://swapi.dev/api/films/3/',\n",
       "    'http://swapi.dev/api/films/4/',\n",
       "    'http://swapi.dev/api/films/5/',\n",
       "    'http://swapi.dev/api/films/6/'],\n",
       "   'species': ['http://swapi.dev/api/species/2/'],\n",
       "   'vehicles': [],\n",
       "   'starships': [],\n",
       "   'created': '2014-12-10T15:11:50.376000Z',\n",
       "   'edited': '2014-12-20T21:17:50.311000Z',\n",
       "   'url': 'http://swapi.dev/api/people/3/'},\n",
       "  {'name': 'Darth Vader',\n",
       "   'height': '202',\n",
       "   'mass': '136',\n",
       "   'hair_color': 'none',\n",
       "   'skin_color': 'white',\n",
       "   'eye_color': 'yellow',\n",
       "   'birth_year': '41.9BBY',\n",
       "   'gender': 'male',\n",
       "   'homeworld': 'http://swapi.dev/api/planets/1/',\n",
       "   'films': ['http://swapi.dev/api/films/1/',\n",
       "    'http://swapi.dev/api/films/2/',\n",
       "    'http://swapi.dev/api/films/3/',\n",
       "    'http://swapi.dev/api/films/6/'],\n",
       "   'species': [],\n",
       "   'vehicles': [],\n",
       "   'starships': ['http://swapi.dev/api/starships/13/'],\n",
       "   'created': '2014-12-10T15:18:20.704000Z',\n",
       "   'edited': '2014-12-20T21:17:50.313000Z',\n",
       "   'url': 'http://swapi.dev/api/people/4/'},\n",
       "  {'name': 'Leia Organa',\n",
       "   'height': '150',\n",
       "   'mass': '49',\n",
       "   'hair_color': 'brown',\n",
       "   'skin_color': 'light',\n",
       "   'eye_color': 'brown',\n",
       "   'birth_year': '19BBY',\n",
       "   'gender': 'female',\n",
       "   'homeworld': 'http://swapi.dev/api/planets/2/',\n",
       "   'films': ['http://swapi.dev/api/films/1/',\n",
       "    'http://swapi.dev/api/films/2/',\n",
       "    'http://swapi.dev/api/films/3/',\n",
       "    'http://swapi.dev/api/films/6/'],\n",
       "   'species': [],\n",
       "   'vehicles': ['http://swapi.dev/api/vehicles/30/'],\n",
       "   'starships': [],\n",
       "   'created': '2014-12-10T15:20:09.791000Z',\n",
       "   'edited': '2014-12-20T21:17:50.315000Z',\n",
       "   'url': 'http://swapi.dev/api/people/5/'},\n",
       "  {'name': 'Owen Lars',\n",
       "   'height': '178',\n",
       "   'mass': '120',\n",
       "   'hair_color': 'brown, grey',\n",
       "   'skin_color': 'light',\n",
       "   'eye_color': 'blue',\n",
       "   'birth_year': '52BBY',\n",
       "   'gender': 'male',\n",
       "   'homeworld': 'http://swapi.dev/api/planets/1/',\n",
       "   'films': ['http://swapi.dev/api/films/1/',\n",
       "    'http://swapi.dev/api/films/5/',\n",
       "    'http://swapi.dev/api/films/6/'],\n",
       "   'species': [],\n",
       "   'vehicles': [],\n",
       "   'starships': [],\n",
       "   'created': '2014-12-10T15:52:14.024000Z',\n",
       "   'edited': '2014-12-20T21:17:50.317000Z',\n",
       "   'url': 'http://swapi.dev/api/people/6/'},\n",
       "  {'name': 'Beru Whitesun lars',\n",
       "   'height': '165',\n",
       "   'mass': '75',\n",
       "   'hair_color': 'brown',\n",
       "   'skin_color': 'light',\n",
       "   'eye_color': 'blue',\n",
       "   'birth_year': '47BBY',\n",
       "   'gender': 'female',\n",
       "   'homeworld': 'http://swapi.dev/api/planets/1/',\n",
       "   'films': ['http://swapi.dev/api/films/1/',\n",
       "    'http://swapi.dev/api/films/5/',\n",
       "    'http://swapi.dev/api/films/6/'],\n",
       "   'species': [],\n",
       "   'vehicles': [],\n",
       "   'starships': [],\n",
       "   'created': '2014-12-10T15:53:41.121000Z',\n",
       "   'edited': '2014-12-20T21:17:50.319000Z',\n",
       "   'url': 'http://swapi.dev/api/people/7/'},\n",
       "  {'name': 'R5-D4',\n",
       "   'height': '97',\n",
       "   'mass': '32',\n",
       "   'hair_color': 'n/a',\n",
       "   'skin_color': 'white, red',\n",
       "   'eye_color': 'red',\n",
       "   'birth_year': 'unknown',\n",
       "   'gender': 'n/a',\n",
       "   'homeworld': 'http://swapi.dev/api/planets/1/',\n",
       "   'films': ['http://swapi.dev/api/films/1/'],\n",
       "   'species': ['http://swapi.dev/api/species/2/'],\n",
       "   'vehicles': [],\n",
       "   'starships': [],\n",
       "   'created': '2014-12-10T15:57:50.959000Z',\n",
       "   'edited': '2014-12-20T21:17:50.321000Z',\n",
       "   'url': 'http://swapi.dev/api/people/8/'},\n",
       "  {'name': 'Biggs Darklighter',\n",
       "   'height': '183',\n",
       "   'mass': '84',\n",
       "   'hair_color': 'black',\n",
       "   'skin_color': 'light',\n",
       "   'eye_color': 'brown',\n",
       "   'birth_year': '24BBY',\n",
       "   'gender': 'male',\n",
       "   'homeworld': 'http://swapi.dev/api/planets/1/',\n",
       "   'films': ['http://swapi.dev/api/films/1/'],\n",
       "   'species': [],\n",
       "   'vehicles': [],\n",
       "   'starships': ['http://swapi.dev/api/starships/12/'],\n",
       "   'created': '2014-12-10T15:59:50.509000Z',\n",
       "   'edited': '2014-12-20T21:17:50.323000Z',\n",
       "   'url': 'http://swapi.dev/api/people/9/'},\n",
       "  {'name': 'Obi-Wan Kenobi',\n",
       "   'height': '182',\n",
       "   'mass': '77',\n",
       "   'hair_color': 'auburn, white',\n",
       "   'skin_color': 'fair',\n",
       "   'eye_color': 'blue-gray',\n",
       "   'birth_year': '57BBY',\n",
       "   'gender': 'male',\n",
       "   'homeworld': 'http://swapi.dev/api/planets/20/',\n",
       "   'films': ['http://swapi.dev/api/films/1/',\n",
       "    'http://swapi.dev/api/films/2/',\n",
       "    'http://swapi.dev/api/films/3/',\n",
       "    'http://swapi.dev/api/films/4/',\n",
       "    'http://swapi.dev/api/films/5/',\n",
       "    'http://swapi.dev/api/films/6/'],\n",
       "   'species': [],\n",
       "   'vehicles': ['http://swapi.dev/api/vehicles/38/'],\n",
       "   'starships': ['http://swapi.dev/api/starships/48/',\n",
       "    'http://swapi.dev/api/starships/59/',\n",
       "    'http://swapi.dev/api/starships/64/',\n",
       "    'http://swapi.dev/api/starships/65/',\n",
       "    'http://swapi.dev/api/starships/74/'],\n",
       "   'created': '2014-12-10T16:16:29.192000Z',\n",
       "   'edited': '2014-12-20T21:17:50.325000Z',\n",
       "   'url': 'http://swapi.dev/api/people/10/'}]}"
      ]
     },
     "execution_count": 5,
     "metadata": {},
     "output_type": "execute_result"
    }
   ],
   "source": [
    "# URL for GET requests to retrieve Star Wars character data\n",
    "base_url = \"https://swapi.dev/api/people/\"\n",
    "requests.get(base_url).json()"
   ]
  },
  {
   "cell_type": "code",
   "execution_count": 8,
   "metadata": {},
   "outputs": [
    {
     "data": {
      "text/plain": [
       "'https://swapi.dev/api/people/4'"
      ]
     },
     "execution_count": 8,
     "metadata": {},
     "output_type": "execute_result"
    }
   ],
   "source": [
    "# Create a url with a specific character id\n",
    "character_id = '4'\n",
    "url = base_url + character_id\n",
    "url"
   ]
  },
  {
   "cell_type": "code",
   "execution_count": 13,
   "metadata": {},
   "outputs": [
    {
     "data": {
      "text/plain": [
       "{'name': 'Darth Vader',\n",
       " 'height': '202',\n",
       " 'mass': '136',\n",
       " 'hair_color': 'none',\n",
       " 'skin_color': 'white',\n",
       " 'eye_color': 'yellow',\n",
       " 'birth_year': '41.9BBY',\n",
       " 'gender': 'male',\n",
       " 'homeworld': 'http://swapi.dev/api/planets/1/',\n",
       " 'films': ['http://swapi.dev/api/films/1/',\n",
       "  'http://swapi.dev/api/films/2/',\n",
       "  'http://swapi.dev/api/films/3/',\n",
       "  'http://swapi.dev/api/films/6/'],\n",
       " 'species': [],\n",
       " 'vehicles': [],\n",
       " 'starships': ['http://swapi.dev/api/starships/13/'],\n",
       " 'created': '2014-12-10T15:18:20.704000Z',\n",
       " 'edited': '2014-12-20T21:17:50.313000Z',\n",
       " 'url': 'http://swapi.dev/api/people/4/'}"
      ]
     },
     "execution_count": 13,
     "metadata": {},
     "output_type": "execute_result"
    }
   ],
   "source": [
    "# Perform a get request for this character\n",
    "response = requests.get(url).json()\n",
    "response"
   ]
  },
  {
   "cell_type": "code",
   "execution_count": null,
   "metadata": {},
   "outputs": [],
   "source": [
    "# Storing the JSON response within a variable\n",
    "data = ???\n",
    "# Use json.dumps to print the json\n",
    "print(???)"
   ]
  },
  {
   "cell_type": "code",
   "execution_count": null,
   "metadata": {},
   "outputs": [],
   "source": [
    "# Print the name of the character retrieved\n",
    "character_name =???\n",
    "print(character_name)"
   ]
  },
  {
   "cell_type": "code",
   "execution_count": null,
   "metadata": {},
   "outputs": [],
   "source": [
    "# Print the number of films that they were in (hint: use len())\n",
    "film_number = ???\n",
    "print(film_number)"
   ]
  },
  {
   "cell_type": "code",
   "execution_count": null,
   "metadata": {},
   "outputs": [],
   "source": [
    "# Request the starships URI found in the starships property of the\n",
    "# previously retreived json, then use the response to figure out what this \n",
    "# character's first starship was\n",
    "first_ship_url = ???\n",
    "ship_response = ???\n",
    "ship_response"
   ]
  },
  {
   "cell_type": "code",
   "execution_count": null,
   "metadata": {},
   "outputs": [],
   "source": [
    "# Print the name of the character's first starship\n",
    "first_ship = ???\n",
    "print(f\"Their first ship: {first_ship}\")"
   ]
  },
  {
   "cell_type": "code",
   "execution_count": null,
   "metadata": {},
   "outputs": [],
   "source": [
    "# BONUS\n",
    "films = []\n",
    "\n",
    "    \n",
    "print(f\"{character_name} was in:\")\n",
    "print(films)"
   ]
  },
  {
   "cell_type": "code",
   "execution_count": null,
   "metadata": {},
   "outputs": [],
   "source": []
  }
 ],
 "metadata": {
  "kernelspec": {
   "display_name": "Python 3",
   "language": "python",
   "name": "python3"
  },
  "language_info": {
   "codemirror_mode": {
    "name": "ipython",
    "version": 3
   },
   "file_extension": ".py",
   "mimetype": "text/x-python",
   "name": "python",
   "nbconvert_exporter": "python",
   "pygments_lexer": "ipython3",
   "version": "3.8.5"
  },
  "varInspector": {
   "cols": {
    "lenName": 16,
    "lenType": 16,
    "lenVar": 40
   },
   "kernels_config": {
    "python": {
     "delete_cmd_postfix": "",
     "delete_cmd_prefix": "del ",
     "library": "var_list.py",
     "varRefreshCmd": "print(var_dic_list())"
    },
    "r": {
     "delete_cmd_postfix": ") ",
     "delete_cmd_prefix": "rm(",
     "library": "var_list.r",
     "varRefreshCmd": "cat(var_dic_list()) "
    }
   },
   "types_to_exclude": [
    "module",
    "function",
    "builtin_function_or_method",
    "instance",
    "_Feature"
   ],
   "window_display": false
  }
 },
 "nbformat": 4,
 "nbformat_minor": 2
}
