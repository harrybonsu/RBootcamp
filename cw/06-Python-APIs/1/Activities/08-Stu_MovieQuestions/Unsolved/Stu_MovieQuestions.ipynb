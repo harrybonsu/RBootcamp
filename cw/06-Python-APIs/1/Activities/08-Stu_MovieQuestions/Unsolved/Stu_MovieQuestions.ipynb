{
 "cells": [
  {
   "cell_type": "code",
   "execution_count": 9,
   "metadata": {},
   "outputs": [],
   "source": [
    "# Dependencies\n",
    "import requests\n",
    "from config import api_key\n",
    "from pprint import pprint"
   ]
  },
  {
   "cell_type": "code",
   "execution_count": 10,
   "metadata": {
    "collapsed": true
   },
   "outputs": [
    {
     "name": "stdout",
     "output_type": "stream",
     "text": [
      "{'Actors': 'Sigourney Weaver, Carrie Henn, Michael Biehn, Paul Reiser',\n",
      " 'Awards': 'Won 2 Oscars. Another 18 wins & 23 nominations.',\n",
      " 'BoxOffice': '$85,160,248',\n",
      " 'Country': 'USA',\n",
      " 'DVD': '25 Nov 2015',\n",
      " 'Director': 'James Cameron',\n",
      " 'Genre': 'Action, Adventure, Sci-Fi, Thriller',\n",
      " 'Language': 'English',\n",
      " 'Metascore': '84',\n",
      " 'Plot': 'Fifty-seven years after surviving an apocalyptic attack aboard her '\n",
      "         'space vessel by merciless space creatures, Officer Ripley awakens '\n",
      "         'from hyper-sleep and tries to warn anyone who will listen about the '\n",
      "         'predators.',\n",
      " 'Poster': 'https://m.media-amazon.com/images/M/MV5BZGU2OGY5ZTYtMWNhYy00NjZiLWI0NjUtZmNhY2JhNDRmODU3XkEyXkFqcGdeQXVyNzkwMjQ5NzM@._V1_SX300.jpg',\n",
      " 'Production': 'Twentieth Century Fox, Brandywine Productions',\n",
      " 'Rated': 'R',\n",
      " 'Ratings': [{'Source': 'Internet Movie Database', 'Value': '8.3/10'},\n",
      "             {'Source': 'Rotten Tomatoes', 'Value': '97%'},\n",
      "             {'Source': 'Metacritic', 'Value': '84/100'}],\n",
      " 'Released': '18 Jul 1986',\n",
      " 'Response': 'True',\n",
      " 'Runtime': '137 min',\n",
      " 'Title': 'Aliens',\n",
      " 'Type': 'movie',\n",
      " 'Website': 'N/A',\n",
      " 'Writer': 'James Cameron (story by), David Giler (story by), Walter Hill '\n",
      "           \"(story by), Dan O'Bannon (based on characters created by), Ronald \"\n",
      "           'Shusett (based on characters created by), James Cameron '\n",
      "           '(screenplay by)',\n",
      " 'Year': '1986',\n",
      " 'imdbID': 'tt0090605',\n",
      " 'imdbRating': '8.3',\n",
      " 'imdbVotes': '654,147'}\n"
     ]
    }
   ],
   "source": [
    "url = f\"http://www.omdbapi.com/?apikey={api_key}&t=\"\n",
    "response = requests.get(url+'Aliens').json()\n",
    "pprint(response)"
   ]
  },
  {
   "cell_type": "code",
   "execution_count": 13,
   "metadata": {},
   "outputs": [
    {
     "name": "stdout",
     "output_type": "stream",
     "text": [
      "The director of the movie Aliens is: Ridley Scott\n"
     ]
    }
   ],
   "source": [
    "# Who was the director of the movie Aliens?\n",
    "movie_dir = response['Director']\n",
    "print(f\"The director of the movie Aliens is: {movie_dir}\")\n"
   ]
  },
  {
   "cell_type": "code",
   "execution_count": 18,
   "metadata": {
    "scrolled": true
   },
   "outputs": [
    {
     "name": "stdout",
     "output_type": "stream",
     "text": [
      "The movie Gladiator was rated: R\n"
     ]
    }
   ],
   "source": [
    "# What was the movie Gladiator rated?\n",
    "glad_url = f\"http://www.omdbapi.com/?apikey={api_key}&t=\"\n",
    "response = requests.get(url+'Gladiator').json()\n",
    "\n",
    "movie_rated = response['Rated']\n",
    "print(f\"The movie Gladiator was rated: {movie_rated}\")"
   ]
  },
  {
   "cell_type": "code",
   "execution_count": 26,
   "metadata": {},
   "outputs": [
    {
     "name": "stdout",
     "output_type": "stream",
     "text": [
      "The movie 50 First Dates was released on: 13 Feb 2004\n"
     ]
    }
   ],
   "source": [
    "# What year was 50 First Dates released?\n",
    "dates_url = f\"http://www.omdbapi.com/?apikey={api_key}&t=\"\n",
    "response = requests.get(url+'50 First Dates').json()\n",
    "movie_date = response['Released']\n",
    "print(f\"The movie 50 First Dates was released on: {movie_date}\")"
   ]
  },
  {
   "cell_type": "code",
   "execution_count": 22,
   "metadata": {
    "scrolled": true
   },
   "outputs": [
    {
     "name": "stdout",
     "output_type": "stream",
     "text": [
      "The movie Moana was written by: Jared Bush (screenplay by), Ron Clements (story by), John Musker (story by), Chris Williams (story by), Don Hall (story by), Pamela Ribon (story by), Aaron Kandell (story by), Jordan Kandell (story by)\n"
     ]
    }
   ],
   "source": [
    "# Who wrote Moana?\n",
    "moana_url = f\"http://www.omdbapi.com/?apikey={api_key}&t=\"\n",
    "response = requests.get(url+'Moana').json()\n",
    "movie_writer = response['Writer']\n",
    "print(f\"The movie Moana was written by: {movie_writer}\")\n"
   ]
  },
  {
   "cell_type": "code",
   "execution_count": 24,
   "metadata": {
    "scrolled": true
   },
   "outputs": [
    {
     "name": "stdout",
     "output_type": "stream",
     "text": [
      "Movie plot: In a city of humanoid animals, a hustling theater impresario's attempt to save his theater with a singing competition becomes grander than he anticipates even as its finalists find that their lives will never be the same.\n"
     ]
    }
   ],
   "source": [
    "# What was the plot of the movie Sing?\n",
    "sing_url = f\"http://www.omdbapi.com/?apikey={api_key}&t=\"\n",
    "response = requests.get(url+'Sing').json()\n",
    "movie_plot = response['Plot']\n",
    "print(f\"Movie plot: {movie_plot}\")"
   ]
  }
 ],
 "metadata": {
  "kernelspec": {
   "display_name": "Python 3",
   "language": "python",
   "name": "python3"
  },
  "language_info": {
   "codemirror_mode": {
    "name": "ipython",
    "version": 3
   },
   "file_extension": ".py",
   "mimetype": "text/x-python",
   "name": "python",
   "nbconvert_exporter": "python",
   "pygments_lexer": "ipython3",
   "version": "3.8.5"
  },
  "varInspector": {
   "cols": {
    "lenName": 16,
    "lenType": 16,
    "lenVar": 40
   },
   "kernels_config": {
    "python": {
     "delete_cmd_postfix": "",
     "delete_cmd_prefix": "del ",
     "library": "var_list.py",
     "varRefreshCmd": "print(var_dic_list())"
    },
    "r": {
     "delete_cmd_postfix": ") ",
     "delete_cmd_prefix": "rm(",
     "library": "var_list.r",
     "varRefreshCmd": "cat(var_dic_list()) "
    }
   },
   "types_to_exclude": [
    "module",
    "function",
    "builtin_function_or_method",
    "instance",
    "_Feature"
   ],
   "window_display": false
  }
 },
 "nbformat": 4,
 "nbformat_minor": 2
}
