{
 "cells": [
  {
   "cell_type": "code",
   "execution_count": 13,
   "metadata": {},
   "outputs": [],
   "source": [
    "import pandas as pd"
   ]
  },
  {
   "cell_type": "code",
   "execution_count": 14,
   "metadata": {},
   "outputs": [
    {
     "data": {
      "text/html": [
       "<div>\n",
       "<style scoped>\n",
       "    .dataframe tbody tr th:only-of-type {\n",
       "        vertical-align: middle;\n",
       "    }\n",
       "\n",
       "    .dataframe tbody tr th {\n",
       "        vertical-align: top;\n",
       "    }\n",
       "\n",
       "    .dataframe thead th {\n",
       "        text-align: right;\n",
       "    }\n",
       "</style>\n",
       "<table border=\"1\" class=\"dataframe\">\n",
       "  <thead>\n",
       "    <tr style=\"text-align: right;\">\n",
       "      <th></th>\n",
       "      <th>Bug\\nID</th>\n",
       "      <th>Product</th>\n",
       "      <th>Component</th>\n",
       "      <th>Assignee</th>\n",
       "      <th>Status</th>\n",
       "      <th>Resolution</th>\n",
       "      <th>Summary</th>\n",
       "      <th>Changed</th>\n",
       "      <th>Assignee\\nReal\\nName</th>\n",
       "      <th>Classification</th>\n",
       "      <th>...</th>\n",
       "      <th>Number of\\nComments</th>\n",
       "      <th>Opened</th>\n",
       "      <th>OS</th>\n",
       "      <th>Priority</th>\n",
       "      <th>Reporter</th>\n",
       "      <th>Reporter\\nReal\\nName</th>\n",
       "      <th>Severity</th>\n",
       "      <th>Target\\nMilestone</th>\n",
       "      <th>Version</th>\n",
       "      <th>Votes</th>\n",
       "    </tr>\n",
       "  </thead>\n",
       "  <tbody>\n",
       "    <tr>\n",
       "      <th>0</th>\n",
       "      <td>3638</td>\n",
       "      <td>JDT</td>\n",
       "      <td>UI</td>\n",
       "      <td>aeschli</td>\n",
       "      <td>VERIFIED</td>\n",
       "      <td>FIXED</td>\n",
       "      <td>Package Viewer: order resource folders before ...</td>\n",
       "      <td>1/17/2002 7:28</td>\n",
       "      <td>Martin Aeschlimann</td>\n",
       "      <td>Eclipse</td>\n",
       "      <td>...</td>\n",
       "      <td>3</td>\n",
       "      <td>10/10/2001 22:58</td>\n",
       "      <td>Windows NT</td>\n",
       "      <td>P1</td>\n",
       "      <td>aeschli</td>\n",
       "      <td>Martin Aeschlimann</td>\n",
       "      <td>major</td>\n",
       "      <td>---</td>\n",
       "      <td>2</td>\n",
       "      <td>0</td>\n",
       "    </tr>\n",
       "    <tr>\n",
       "      <th>1</th>\n",
       "      <td>3854</td>\n",
       "      <td>JDT</td>\n",
       "      <td>UI</td>\n",
       "      <td>aeschli</td>\n",
       "      <td>VERIFIED</td>\n",
       "      <td>FIXED</td>\n",
       "      <td>Wrong execution's classpath. (1GEY0W0)</td>\n",
       "      <td>1/18/2002 4:02</td>\n",
       "      <td>Martin Aeschlimann</td>\n",
       "      <td>Eclipse</td>\n",
       "      <td>...</td>\n",
       "      <td>5</td>\n",
       "      <td>10/10/2001 23:01</td>\n",
       "      <td>Windows NT</td>\n",
       "      <td>P1</td>\n",
       "      <td>david_audel</td>\n",
       "      <td>David Audel</td>\n",
       "      <td>normal</td>\n",
       "      <td>---</td>\n",
       "      <td>2</td>\n",
       "      <td>0</td>\n",
       "    </tr>\n",
       "  </tbody>\n",
       "</table>\n",
       "<p>2 rows × 21 columns</p>\n",
       "</div>"
      ],
      "text/plain": [
       "   Bug\\nID Product Component Assignee    Status Resolution  \\\n",
       "0     3638     JDT        UI  aeschli  VERIFIED      FIXED   \n",
       "1     3854     JDT        UI  aeschli  VERIFIED      FIXED   \n",
       "\n",
       "                                             Summary         Changed  \\\n",
       "0  Package Viewer: order resource folders before ...  1/17/2002 7:28   \n",
       "1             Wrong execution's classpath. (1GEY0W0)  1/18/2002 4:02   \n",
       "\n",
       "  Assignee\\nReal\\nName Classification  ... Number of\\nComments  \\\n",
       "0   Martin Aeschlimann        Eclipse  ...                   3   \n",
       "1   Martin Aeschlimann        Eclipse  ...                   5   \n",
       "\n",
       "             Opened          OS Priority     Reporter Reporter\\nReal\\nName  \\\n",
       "0  10/10/2001 22:58  Windows NT       P1      aeschli   Martin Aeschlimann   \n",
       "1  10/10/2001 23:01  Windows NT       P1  david_audel          David Audel   \n",
       "\n",
       "  Severity Target\\nMilestone Version Votes  \n",
       "0    major               ---       2     0  \n",
       "1   normal               ---       2     0  \n",
       "\n",
       "[2 rows x 21 columns]"
      ]
     },
     "execution_count": 14,
     "metadata": {},
     "output_type": "execute_result"
    }
   ],
   "source": [
    "# Create a reference to the CSV and import it into a Pandas DataFrame\n",
    "csv_path = \"Resources/EclipseBugs.csv\"\n",
    "pd = pd.read_csv(csv_path)\n",
    "pd.head(2)"
   ]
  },
  {
   "cell_type": "code",
   "execution_count": 18,
   "metadata": {},
   "outputs": [
    {
     "ename": "NameError",
     "evalue": "name 'pd_df' is not defined",
     "output_type": "error",
     "traceback": [
      "\u001b[1;31m---------------------------------------------------------------------------\u001b[0m",
      "\u001b[1;31mNameError\u001b[0m                                 Traceback (most recent call last)",
      "\u001b[1;32m<ipython-input-18-a11dc9495c25>\u001b[0m in \u001b[0;36m<module>\u001b[1;34m\u001b[0m\n\u001b[0;32m      1\u001b[0m \u001b[1;31m# Finding the average number of comments per bug\u001b[0m\u001b[1;33m\u001b[0m\u001b[1;33m\u001b[0m\u001b[1;33m\u001b[0m\u001b[0m\n\u001b[1;32m----> 2\u001b[1;33m \u001b[0maverage_comments\u001b[0m \u001b[1;33m=\u001b[0m \u001b[0mpd_df\u001b[0m\u001b[1;33m[\u001b[0m\u001b[1;34m\"Number of Comments\"\u001b[0m\u001b[1;33m]\u001b[0m\u001b[1;33m.\u001b[0m\u001b[0mmean\u001b[0m\u001b[1;33m(\u001b[0m\u001b[1;33m)\u001b[0m\u001b[1;33m\u001b[0m\u001b[1;33m\u001b[0m\u001b[0m\n\u001b[0m\u001b[0;32m      3\u001b[0m \u001b[0maverage_comments\u001b[0m\u001b[1;33m\u001b[0m\u001b[1;33m\u001b[0m\u001b[0m\n",
      "\u001b[1;31mNameError\u001b[0m: name 'pd_df' is not defined"
     ]
    }
   ],
   "source": [
    "# Finding the average number of comments per bug\n",
    "average_comments = pd_df[\"Number of Comments\"].mean()\n",
    "average_comments"
   ]
  },
  {
   "cell_type": "code",
   "execution_count": null,
   "metadata": {},
   "outputs": [],
   "source": [
    "# Grouping the DataFrame by \"Assignee\"\n",
    "assignee_group = eclipse_df.groupby(\"Assignee\")\n",
    "\n",
    "# Count how many of each component Assignees worked on and create DataFrame\n",
    "assignee_work_df = pd.DataFrame(assignee_group[\"Component\"].value_counts())\n",
    "assignee_work_df.head()"
   ]
  },
  {
   "cell_type": "code",
   "execution_count": null,
   "metadata": {},
   "outputs": [],
   "source": [
    "# Rename the \"Component\" column to \"Component Bug Count\"\n",
    "assignee_work_df = assignee_work_df.rename(\n",
    "    columns={\"Component\": \"Component Bug Count\"})\n",
    "assignee_work_df.head()"
   ]
  },
  {
   "cell_type": "code",
   "execution_count": null,
   "metadata": {},
   "outputs": [],
   "source": [
    "# Find the percentage of bugs overall fixed by each Assignee\n",
    "total_bugs = assignee_group[\"Assignee\"].count()\n",
    "bugs_per_user = assignee_group[\"Assignee\"].value_counts()\n",
    "\n",
    "user_bug_percent_df = pd.DataFrame((bugs_per_user/total_bugs)*100)\n",
    "user_bug_percent_df.head()"
   ]
  },
  {
   "cell_type": "code",
   "execution_count": null,
   "metadata": {},
   "outputs": [],
   "source": [
    "# Rename the \"Assignee\" column to \"Percent of Total Bugs Assigned\"\n",
    "user_bug_percent_df = user_bug_percent_df.rename(\n",
    "    columns={\"Assignee\": \"Percent of Total Bugs Assigned\"})\n",
    "\n",
    "# Reset the index for this DataFrame so \"Assignee\" is a column\n",
    "user_bug_percent_df = user_bug_percent_df.reset_index()\n",
    "user_bug_percent_df.head()"
   ]
  },
  {
   "cell_type": "code",
   "execution_count": null,
   "metadata": {},
   "outputs": [],
   "source": [
    "# Reset the index of \"assignee_group\" so that \"Assignee\" and \"Component\" are columns\n",
    "assignee_work_df = assignee_work_df.reset_index()"
   ]
  },
  {
   "cell_type": "code",
   "execution_count": null,
   "metadata": {},
   "outputs": [],
   "source": [
    "# Merge the \"Percent of Total Bugs Assigned\" into the DataFrame\n",
    "assignee_work_df = assignee_work_df.merge(user_bug_percent_df, on=\"Component\")\n",
    "assignee_work_df.head()"
   ]
  }
 ],
 "metadata": {
  "kernelspec": {
   "display_name": "Python 3",
   "language": "python",
   "name": "python3"
  },
  "language_info": {
   "codemirror_mode": {
    "name": "ipython",
    "version": 3
   },
   "file_extension": ".py",
   "mimetype": "text/x-python",
   "name": "python",
   "nbconvert_exporter": "python",
   "pygments_lexer": "ipython3",
   "version": "3.8.5"
  }
 },
 "nbformat": 4,
 "nbformat_minor": 2
}
