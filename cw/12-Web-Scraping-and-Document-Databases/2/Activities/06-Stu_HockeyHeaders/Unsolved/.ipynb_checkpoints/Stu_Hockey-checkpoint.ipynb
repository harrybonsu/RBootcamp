{
 "cells": [
  {
   "cell_type": "code",
   "execution_count": 1,
   "metadata": {},
   "outputs": [],
   "source": [
    "# Dependencies\n",
    "from bs4 import BeautifulSoup\n",
    "import requests\n",
    "import pymongo"
   ]
  },
  {
   "cell_type": "code",
   "execution_count": 2,
   "metadata": {},
   "outputs": [],
   "source": [
    "# Initialize PyMongo to work with MongoDBs\n",
    "conn = 'mongodb://localhost:27017'\n",
    "client = pymongo.MongoClient(conn)"
   ]
  },
  {
   "cell_type": "code",
   "execution_count": 3,
   "metadata": {},
   "outputs": [],
   "source": [
    "# Define database and collection\n",
    "db = client.nhl_db\n",
    "collection = db.articles"
   ]
  },
  {
   "cell_type": "code",
   "execution_count": 4,
   "metadata": {},
   "outputs": [],
   "source": [
    "# URL of page to be scraped\n",
    "url = 'https://www.nhl.com/news'\n",
    "\n",
    "# Retrieve page with the requests module\n",
    "response = requests.get(url)\n",
    "# Create BeautifulSoup object; parse with 'html.parser'\n",
    "soup = BeautifulSoup(response.text, 'html.parser')"
   ]
  },
  {
   "cell_type": "code",
   "execution_count": 18,
   "metadata": {},
   "outputs": [
    {
     "name": "stdout",
     "output_type": "stream",
     "text": [
      "'NoneType' object has no attribute 'text'\n"
     ]
    }
   ],
   "source": [
    "results = soup.find_all('div', 'article-item__top')\n",
    "for result in results:\n",
    "    try:\n",
    "        header = result.find('h1', 'article-item__headline').text\n",
    "        sub_header = result.find('h2', 'article-item__subheader').text\n",
    "        datetime = result.find('span', 'article-item__date')['data-date']\n",
    "\n",
    "        #create a variable to store the results to post to Mongo\n",
    "        post = {\n",
    "                'header':header,\n",
    "                'sub_header':sub_header,\n",
    "                'datetime':datetime\n",
    "        }\n",
    "        collection.insert_one(post)\n",
    "    except Exception as e:\n",
    "        print(e)\n",
    "        "
   ]
  },
  {
   "cell_type": "code",
   "execution_count": null,
   "metadata": {},
   "outputs": [],
   "source": [
    "# Retrieve the parent divs for all articles\n",
    "\n",
    "# loop over results to get article data\n",
    "\n",
    "# scrape the article header \n",
    "\n",
    "# scrape the article subheader\n",
    "\n",
    "# scrape the datetime\n",
    "\n",
    "# get only the date from the datetime\n",
    "\n",
    "# print article data\n",
    "\n",
    "\n",
    "# Dictionary to be inserted into MongoDB\n",
    "\n",
    "# Insert dictionary into MongoDB as a document\n"
   ]
  },
  {
   "cell_type": "code",
   "execution_count": 19,
   "metadata": {},
   "outputs": [
    {
     "name": "stdout",
     "output_type": "stream",
     "text": [
      "{'_id': ObjectId('6080deff86a7733dbab419c8'), 'header': \"Mailbag: Hall's future with Bruins, Devils rebuild\", 'sub_header': \"NHL.com's Tom Gulitti answers weekly questions\", 'datetime': '2021-04-21T00:00:00-0400'}\n",
      "{'_id': ObjectId('6080deff86a7733dbab419c9'), 'header': 'NHL urges teams to adhere to COVID-19 protocols', 'sub_header': '2022 Olympics, schedule for next season also discussed during annual GMs meeting', 'datetime': '2021-04-21T20:48:46-0400'}\n",
      "{'_id': ObjectId('6080deff86a7733dbab419ca'), 'header': 'Rantanen not available to Avalanche in return from COVID-19 pause', 'sub_header': \"Forward out for start of trip at St. Louis on Thursday; Colorado hasn't played since April 14\", 'datetime': '2021-04-21T19:36:18-0400'}\n",
      "{'_id': ObjectId('6080deff86a7733dbab419cb'), 'header': 'Stanley Cup Playoff Buzz: Oilers can take over second in North Division', 'sub_header': 'Golden Knights can clinch berth in West; Blackhawks try to gain on Predators in Central', 'datetime': '2021-04-21T13:35:26-0400'}\n",
      "{'_id': ObjectId('6080deff86a7733dbab419cc'), 'header': 'Ovechkin of Capitals may challenge NHL goals record, Dionne says', 'sub_header': 'Forward can tie Hall of Famer for fifth with one Thursday; 164 behind Gretzky for first', 'datetime': '2021-04-21T11:44:04-0400'}\n",
      "{'_id': ObjectId('6080deff86a7733dbab419cd'), 'header': 'Dumba, Nurse see Derek Chauvin guilty verdict as step in combating racism', 'sub_header': \"Wild, Oilers defensemen believe there's 'a ton of work to be done' after conviction in George Floyd death\", 'datetime': '2021-04-21T18:55:27-0400'}\n",
      "{'_id': ObjectId('6080deff86a7733dbab419ce'), 'header': 'Stanley Cup Playoffs clinching scenario for April 21', 'sub_header': 'Golden Knights can become first team to earn berth with one point vs. Sharks', 'datetime': '2021-04-21T09:33:33-0400'}\n",
      "{'_id': ObjectId('6080deff86a7733dbab419cf'), 'header': 'NHL Buzz: Wheeler expected to return for Jets', 'sub_header': 'Trouba day to day for Rangers with upper-body injury', 'datetime': '2021-04-21T21:45:34-0400'}\n",
      "{'_id': ObjectId('6080deff86a7733dbab419d0'), 'header': 'Fantasy hockey top 25 goalie rankings', 'sub_header': 'Best options at position in standard leagues for rest of this season; podcast', 'datetime': '2021-04-21T17:30:00-0400'}\n",
      "{'_id': ObjectId('6080deff86a7733dbab419d1'), 'header': 'Devils miss playoffs; special teams, Hischier injuries among reasons', 'sub_header': 'Poor play at home led to third straight season without berth', 'datetime': '2021-04-21T12:08:00-0400'}\n",
      "{'_id': ObjectId('6080deff86a7733dbab419d2'), 'header': 'Carter, Brown join push for policing overhaul bill named for George Floyd', 'sub_header': 'Former NHL players team with athletes, entertainers advocating Congress to ban chokeholds, profiling', 'datetime': '2021-04-21T09:48:03-0400'}\n",
      "{'_id': ObjectId('6080deff86a7733dbab419d3'), 'header': 'Price in concussion protocol, out at least one week for Canadiens', 'sub_header': 'Goalie expected to be sidelined minimum of four games, was injured in loss to Oilers', 'datetime': '2021-04-20T15:33:56-0400'}\n",
      "{'_id': ObjectId('6080deff86a7733dbab419d4'), 'header': 'Chicago Stadium had perfect nickname, Fischler says', 'sub_header': \"'Madhouse on Madison' was apt description of Blackhawks' longtime home\", 'datetime': '2021-04-21T00:00:00-0400'}\n",
      "{'_id': ObjectId('6080deff86a7733dbab419d5'), 'header': 'Fantasy hockey top 50 defenseman rankings', 'sub_header': 'Best options at position in standard leagues for rest of this season; podcast', 'datetime': '2021-04-21T10:25:05-0400'}\n",
      "{'_id': ObjectId('6080deff86a7733dbab419d6'), 'header': 'Trophy Tracker weekly division leaders include Marchand, Crosby', 'sub_header': 'Norris, Stutzle, Hedman among other favorites according to NHL.com writers', 'datetime': '2021-04-20T11:50:00-0400'}\n",
      "{'_id': ObjectId('6080deff86a7733dbab419d7'), 'header': 'OHL, top NHL Draft talent supplier, cancels season', 'sub_header': 'Five players from league were among first 10 picks in 2020', 'datetime': '2021-04-20T11:57:55-0400'}\n",
      "{'_id': ObjectId('6080deff86a7733dbab419d8'), 'header': 'Marleau breaks record for most games played in NHL history set by Howe', 'sub_header': 'Sharks forward skates in No. 1,768 in 23rd season', 'datetime': '2021-04-20T02:25:50-0400'}\n",
      "{'_id': ObjectId('6080deff86a7733dbab419d9'), 'header': 'Color of Hockey: Fraser thriving in diversity position with Maple Leafs', 'sub_header': \"'Impactful role' proving good fit for former NHL defenseman\", 'datetime': '2021-04-19T00:00:00-0400'}\n",
      "{'_id': ObjectId('6080deff86a7733dbab419da'), 'header': 'NHL DFS player picks, projections, strategy', 'sub_header': 'Foligno could make Maple Leafs debut against Jets; more Thursday fantasy targets', 'datetime': '2021-04-21T19:00:01-0400'}\n",
      "{'_id': ObjectId('6080deff86a7733dbab419db'), 'header': 'Luongo named general manager of Canada national team for 2021 Worlds', 'sub_header': 'Panthers adviser joined on staff by assistants Doan, Salmond', 'datetime': '2021-04-20T12:25:00-0400'}\n",
      "{'_id': ObjectId('6080deff86a7733dbab419dc'), 'header': 'Rask robs Cozens with eye-popping glove save in Bruins win vs. Sabres', 'sub_header': 'Boston goalie makes stunning stop, shuts out Buffalo', 'datetime': '2021-04-20T22:43:16-0400'}\n",
      "{'_id': ObjectId('6080deff86a7733dbab419dd'), 'header': \"'NHL Fantasy on Ice' podcast available now\", 'sub_header': \"Bennett, Foligno, Reilly top pickups; Knight's debut; Canucks' playoff chances\", 'datetime': '2021-04-21T10:45:00-0400'}\n",
      "{'_id': ObjectId('6080deff86a7733dbab419de'), 'header': 'Rookie Watch: Kaprizov, Robertson, Sorokin among best since March 1', 'sub_header': 'Wild left wing, Stars forward, Islanders goalie each raising play at important part of season', 'datetime': '2021-04-20T10:33:37-0400'}\n",
      "{'_id': ObjectId('6080deff86a7733dbab419df'), 'header': 'Hyman out at least two weeks for Maple Leafs with knee injury', 'sub_header': 'Forward sprained MCL in loss to Canucks; Nylander will play after being late to meeting', 'datetime': '2021-04-20T14:52:06-0400'}\n",
      "{'_id': ObjectId('6080deff86a7733dbab419e0'), 'header': 'Marleau NHL games record not one Thornton plans to match', 'sub_header': \"Maple Leafs center says it's 'really cool' friend, Sharks forward passing Howe\", 'datetime': '2021-04-19T22:10:00-0400'}\n",
      "{'_id': ObjectId('6080deff86a7733dbab419e1'), 'header': 'Commissioner, Golden Knights honor Marleau for games played record', 'sub_header': 'NHL Commissioner Bettman sends congratulatory video, players tap sticks for veteran', 'datetime': '2021-04-20T01:39:39-0400'}\n",
      "{'_id': ObjectId('6080deff86a7733dbab419e2'), 'header': 'Edler of Canucks suspended two games', 'sub_header': 'Defenseman banned for kneeing Maple Leafs forward Hyman', 'datetime': '2021-04-19T16:06:35-0400'}\n",
      "{'_id': ObjectId('6080deff86a7733dbab419e3'), 'header': 'Lyubushkin signs one-year contract with Coyotes', 'sub_header': 'Defenseman has scored two points this season, could have become unrestricted free agent', 'datetime': '2021-04-19T15:26:45-0400'}\n"
     ]
    }
   ],
   "source": [
    "# Display the MongoDB records created above\n",
    "articles = db.articles.find()\n",
    "for article in articles:\n",
    "    print(article)"
   ]
  },
  {
   "cell_type": "code",
   "execution_count": null,
   "metadata": {},
   "outputs": [],
   "source": []
  }
 ],
 "metadata": {
  "kernelspec": {
   "display_name": "Python 3",
   "language": "python",
   "name": "python3"
  },
  "language_info": {
   "codemirror_mode": {
    "name": "ipython",
    "version": 3
   },
   "file_extension": ".py",
   "mimetype": "text/x-python",
   "name": "python",
   "nbconvert_exporter": "python",
   "pygments_lexer": "ipython3",
   "version": "3.8.5"
  },
  "varInspector": {
   "cols": {
    "lenName": 16,
    "lenType": 16,
    "lenVar": 40
   },
   "kernels_config": {
    "python": {
     "delete_cmd_postfix": "",
     "delete_cmd_prefix": "del ",
     "library": "var_list.py",
     "varRefreshCmd": "print(var_dic_list())"
    },
    "r": {
     "delete_cmd_postfix": ") ",
     "delete_cmd_prefix": "rm(",
     "library": "var_list.r",
     "varRefreshCmd": "cat(var_dic_list()) "
    }
   },
   "types_to_exclude": [
    "module",
    "function",
    "builtin_function_or_method",
    "instance",
    "_Feature"
   ],
   "window_display": false
  }
 },
 "nbformat": 4,
 "nbformat_minor": 2
}
