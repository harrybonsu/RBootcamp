{
 "cells": [
  {
   "cell_type": "code",
   "execution_count": 1,
   "metadata": {},
   "outputs": [],
   "source": [
    "from splinter import Browser\n",
    "from bs4 import BeautifulSoup\n",
    "from webdriver_manager.chrome import ChromeDriverManager"
   ]
  },
  {
   "cell_type": "code",
   "execution_count": 2,
   "metadata": {},
   "outputs": [
    {
     "name": "stderr",
     "output_type": "stream",
     "text": [
      "[WDM] - ====== WebDriver manager ======\n",
      "[WDM] - Current google-chrome version is 90.0.4430\n",
      "[WDM] - Get LATEST driver version for 90.0.4430\n"
     ]
    },
    {
     "name": "stdout",
     "output_type": "stream",
     "text": [
      "\n",
      "\n"
     ]
    },
    {
     "name": "stderr",
     "output_type": "stream",
     "text": [
      "[WDM] - There is no [win32] chromedriver for browser 90.0.4430 in cache\n",
      "[WDM] - Get LATEST driver version for 90.0.4430\n",
      "[WDM] - Trying to download new driver from https://chromedriver.storage.googleapis.com/90.0.4430.24/chromedriver_win32.zip\n",
      "[WDM] - Driver has been saved in cache [C:\\Users\\hbons\\.wdm\\drivers\\chromedriver\\win32\\90.0.4430.24]\n"
     ]
    }
   ],
   "source": [
    "# Setup splinter\n",
    "executable_path = {'executable_path': ChromeDriverManager().install()}\n",
    "browser = Browser('chrome', **executable_path, headless=False)"
   ]
  },
  {
   "cell_type": "code",
   "execution_count": 3,
   "metadata": {},
   "outputs": [],
   "source": [
    "url = 'http://quotes.toscrape.com/'\n",
    "browser.visit(url)"
   ]
  },
  {
   "cell_type": "code",
   "execution_count": 5,
   "metadata": {},
   "outputs": [
    {
     "name": "stdout",
     "output_type": "stream",
     "text": [
      "page: 1 -------------\n",
      "“There is nothing I would not do for those who are really my friends. I have no notion of loving people by halves, it is not my nature.”\n",
      "page: 1 -------------\n",
      "“Do one thing every day that scares you.”\n",
      "page: 1 -------------\n",
      "“I am good, but not an angel. I do sin, but I am not the devil. I am just a small girl in a big world trying to find someone to love.”\n",
      "page: 1 -------------\n",
      "“If I were not a physicist, I would probably be a musician. I often think in music. I live my daydreams in music. I see my life in terms of music.”\n",
      "page: 1 -------------\n",
      "“If you only read the books that everyone else is reading, you can only think what everyone else is thinking.”\n",
      "page: 1 -------------\n",
      "“The difference between genius and stupidity is: genius has its limits.”\n",
      "page: 1 -------------\n",
      "“He's like a drug for you, Bella.”\n",
      "page: 1 -------------\n",
      "“There is no friend as loyal as a book.”\n",
      "page: 1 -------------\n",
      "“When one door of happiness closes, another opens; but often we look so long at the closed door that we do not see the one which has been opened for us.”\n",
      "page: 1 -------------\n",
      "“Life isn't about finding yourself. Life is about creating yourself.”\n",
      "page: 2 -------------\n",
      "“That's the problem with drinking, I thought, as I poured myself a drink. If something bad happens you drink in an attempt to forget; if something good happens you drink in order to celebrate; and if nothing happens you drink to make something happen.”\n",
      "page: 2 -------------\n",
      "“You don’t forget the face of the person who was your last hope.”\n",
      "page: 2 -------------\n",
      "“Remember, we're madly in love, so it's all right to kiss me anytime you feel like it.”\n",
      "page: 2 -------------\n",
      "“To love at all is to be vulnerable. Love anything and your heart will be wrung and possibly broken. If you want to make sure of keeping it intact you must give it to no one, not even an animal. Wrap it carefully round with hobbies and little luxuries; avoid all entanglements. Lock it up safe in the casket or coffin of your selfishness. But in that casket, safe, dark, motionless, airless, it will change. It will not be broken; it will become unbreakable, impenetrable, irredeemable. To love is to be vulnerable.”\n",
      "page: 2 -------------\n",
      "“Not all those who wander are lost.”\n",
      "page: 2 -------------\n",
      "“Do not pity the dead, Harry. Pity the living, and, above all those who live without love.”\n",
      "page: 2 -------------\n",
      "“There is nothing to writing. All you do is sit down at a typewriter and bleed.”\n",
      "page: 2 -------------\n",
      "“Finish each day and be done with it. You have done what you could. Some blunders and absurdities no doubt crept in; forget them as soon as you can. Tomorrow is a new day. You shall begin it serenely and with too high a spirit to be encumbered with your old nonsense.”\n",
      "page: 2 -------------\n",
      "“I have never let my schooling interfere with my education.”\n",
      "page: 2 -------------\n",
      "“I have heard there are troubles of more than one kind. Some come from ahead and some come from behind. But I've bought a big bat. I'm all ready you see. Now my troubles are going to have troubles with me!”\n",
      "page: 3 -------------\n",
      "“That's the problem with drinking, I thought, as I poured myself a drink. If something bad happens you drink in an attempt to forget; if something good happens you drink in order to celebrate; and if nothing happens you drink to make something happen.”\n",
      "page: 3 -------------\n",
      "“You don’t forget the face of the person who was your last hope.”\n",
      "page: 3 -------------\n",
      "“Remember, we're madly in love, so it's all right to kiss me anytime you feel like it.”\n",
      "page: 3 -------------\n",
      "“To love at all is to be vulnerable. Love anything and your heart will be wrung and possibly broken. If you want to make sure of keeping it intact you must give it to no one, not even an animal. Wrap it carefully round with hobbies and little luxuries; avoid all entanglements. Lock it up safe in the casket or coffin of your selfishness. But in that casket, safe, dark, motionless, airless, it will change. It will not be broken; it will become unbreakable, impenetrable, irredeemable. To love is to be vulnerable.”\n",
      "page: 3 -------------\n",
      "“Not all those who wander are lost.”\n",
      "page: 3 -------------\n",
      "“Do not pity the dead, Harry. Pity the living, and, above all those who live without love.”\n",
      "page: 3 -------------\n",
      "“There is nothing to writing. All you do is sit down at a typewriter and bleed.”\n",
      "page: 3 -------------\n",
      "“Finish each day and be done with it. You have done what you could. Some blunders and absurdities no doubt crept in; forget them as soon as you can. Tomorrow is a new day. You shall begin it serenely and with too high a spirit to be encumbered with your old nonsense.”\n",
      "page: 3 -------------\n",
      "“I have never let my schooling interfere with my education.”\n",
      "page: 3 -------------\n",
      "“I have heard there are troubles of more than one kind. Some come from ahead and some come from behind. But I've bought a big bat. I'm all ready you see. Now my troubles are going to have troubles with me!”\n",
      "page: 4 -------------\n",
      "“That's the problem with drinking, I thought, as I poured myself a drink. If something bad happens you drink in an attempt to forget; if something good happens you drink in order to celebrate; and if nothing happens you drink to make something happen.”\n",
      "page: 4 -------------\n",
      "“You don’t forget the face of the person who was your last hope.”\n",
      "page: 4 -------------\n",
      "“Remember, we're madly in love, so it's all right to kiss me anytime you feel like it.”\n",
      "page: 4 -------------\n",
      "“To love at all is to be vulnerable. Love anything and your heart will be wrung and possibly broken. If you want to make sure of keeping it intact you must give it to no one, not even an animal. Wrap it carefully round with hobbies and little luxuries; avoid all entanglements. Lock it up safe in the casket or coffin of your selfishness. But in that casket, safe, dark, motionless, airless, it will change. It will not be broken; it will become unbreakable, impenetrable, irredeemable. To love is to be vulnerable.”\n",
      "page: 4 -------------\n",
      "“Not all those who wander are lost.”\n",
      "page: 4 -------------\n",
      "“Do not pity the dead, Harry. Pity the living, and, above all those who live without love.”\n",
      "page: 4 -------------\n",
      "“There is nothing to writing. All you do is sit down at a typewriter and bleed.”\n",
      "page: 4 -------------\n",
      "“Finish each day and be done with it. You have done what you could. Some blunders and absurdities no doubt crept in; forget them as soon as you can. Tomorrow is a new day. You shall begin it serenely and with too high a spirit to be encumbered with your old nonsense.”\n",
      "page: 4 -------------\n",
      "“I have never let my schooling interfere with my education.”\n",
      "page: 4 -------------\n",
      "“I have heard there are troubles of more than one kind. Some come from ahead and some come from behind. But I've bought a big bat. I'm all ready you see. Now my troubles are going to have troubles with me!”\n",
      "page: 5 -------------\n",
      "“That's the problem with drinking, I thought, as I poured myself a drink. If something bad happens you drink in an attempt to forget; if something good happens you drink in order to celebrate; and if nothing happens you drink to make something happen.”\n",
      "page: 5 -------------\n",
      "“You don’t forget the face of the person who was your last hope.”\n",
      "page: 5 -------------\n",
      "“Remember, we're madly in love, so it's all right to kiss me anytime you feel like it.”\n",
      "page: 5 -------------\n",
      "“To love at all is to be vulnerable. Love anything and your heart will be wrung and possibly broken. If you want to make sure of keeping it intact you must give it to no one, not even an animal. Wrap it carefully round with hobbies and little luxuries; avoid all entanglements. Lock it up safe in the casket or coffin of your selfishness. But in that casket, safe, dark, motionless, airless, it will change. It will not be broken; it will become unbreakable, impenetrable, irredeemable. To love is to be vulnerable.”\n",
      "page: 5 -------------\n",
      "“Not all those who wander are lost.”\n",
      "page: 5 -------------\n",
      "“Do not pity the dead, Harry. Pity the living, and, above all those who live without love.”\n",
      "page: 5 -------------\n",
      "“There is nothing to writing. All you do is sit down at a typewriter and bleed.”\n",
      "page: 5 -------------\n",
      "“Finish each day and be done with it. You have done what you could. Some blunders and absurdities no doubt crept in; forget them as soon as you can. Tomorrow is a new day. You shall begin it serenely and with too high a spirit to be encumbered with your old nonsense.”\n",
      "page: 5 -------------\n",
      "“I have never let my schooling interfere with my education.”\n",
      "page: 5 -------------\n",
      "“I have heard there are troubles of more than one kind. Some come from ahead and some come from behind. But I've bought a big bat. I'm all ready you see. Now my troubles are going to have troubles with me!”\n"
     ]
    }
   ],
   "source": [
    "for x in range(1, 6):\n",
    "\n",
    "    html = browser.html\n",
    "    soup = BeautifulSoup(html, 'html.parser')\n",
    "\n",
    "    quotes = soup.find_all('span', class_='text')\n",
    "\n",
    "    for quote in quotes:\n",
    "        print('page:', x, '-------------')\n",
    "        print(quote.text)\n",
    "\n",
    "    browser.links.find_by_partial_text('Next').click()"
   ]
  },
  {
   "cell_type": "code",
   "execution_count": 6,
   "metadata": {},
   "outputs": [],
   "source": [
    "browser.quit()"
   ]
  }
 ],
 "metadata": {
  "kernelspec": {
   "display_name": "Python 3",
   "language": "python",
   "name": "python3"
  },
  "language_info": {
   "codemirror_mode": {
    "name": "ipython",
    "version": 3
   },
   "file_extension": ".py",
   "mimetype": "text/x-python",
   "name": "python",
   "nbconvert_exporter": "python",
   "pygments_lexer": "ipython3",
   "version": "3.8.5"
  },
  "varInspector": {
   "cols": {
    "lenName": 16,
    "lenType": 16,
    "lenVar": 40
   },
   "kernels_config": {
    "python": {
     "delete_cmd_postfix": "",
     "delete_cmd_prefix": "del ",
     "library": "var_list.py",
     "varRefreshCmd": "print(var_dic_list())"
    },
    "r": {
     "delete_cmd_postfix": ") ",
     "delete_cmd_prefix": "rm(",
     "library": "var_list.r",
     "varRefreshCmd": "cat(var_dic_list()) "
    }
   },
   "types_to_exclude": [
    "module",
    "function",
    "builtin_function_or_method",
    "instance",
    "_Feature"
   ],
   "window_display": false
  }
 },
 "nbformat": 4,
 "nbformat_minor": 2
}
