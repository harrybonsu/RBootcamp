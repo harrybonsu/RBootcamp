{
 "cells": [
  {
   "cell_type": "code",
   "execution_count": 1,
   "metadata": {},
   "outputs": [],
   "source": [
    "import pymongo\n",
    "from pprint import pprint"
   ]
  },
  {
   "cell_type": "code",
   "execution_count": 2,
   "metadata": {},
   "outputs": [],
   "source": [
    "db_conn = 'mongodb://localhost:27017'\n",
    "client = pymongo.MongoClient(db_conn)"
   ]
  },
  {
   "cell_type": "code",
   "execution_count": 3,
   "metadata": {},
   "outputs": [],
   "source": [
    "fruit_db = client.fruit_db"
   ]
  },
  {
   "cell_type": "code",
   "execution_count": 4,
   "metadata": {},
   "outputs": [],
   "source": [
    "fruits = fruit_db.fruits"
   ]
  },
  {
   "cell_type": "code",
   "execution_count": 5,
   "metadata": {},
   "outputs": [
    {
     "name": "stdout",
     "output_type": "stream",
     "text": [
      "vendor nameVendor A\n",
      "fruit typeMango\n",
      "quantity15\n",
      "ripeness level from 1 to 33\n"
     ]
    }
   ],
   "source": [
    "# Ask the user for input. Store information into variables.\n",
    "vendor_name = input('vendor name')\n",
    "fruit_type = input('fruit type')\n",
    "quantity = input('quantity')\n",
    "ripeness = input('ripeness level from 1 to 3')"
   ]
  },
  {
   "cell_type": "code",
   "execution_count": 6,
   "metadata": {},
   "outputs": [
    {
     "data": {
      "text/plain": [
       "<pymongo.results.InsertOneResult at 0x266737ccfc0>"
      ]
     },
     "execution_count": 6,
     "metadata": {},
     "output_type": "execute_result"
    }
   ],
   "source": [
    "fruit_1 = {'vendor': vendor_name,\n",
    "          'fruit': fruit_type,\n",
    "          'quantity': quantity,\n",
    "           'ripeness': ripeness\n",
    "          }\n",
    "fruits.insert_one(fruit_1)"
   ]
  },
  {
   "cell_type": "code",
   "execution_count": 7,
   "metadata": {},
   "outputs": [
    {
     "name": "stdout",
     "output_type": "stream",
     "text": [
      "{'_id': ObjectId('607cf03dcfc021af6662f8e3'),\n",
      " 'fruit': 'banana',\n",
      " 'quantity': 10,\n",
      " 'ripeness': 2,\n",
      " 'vendor': 'vendor_1'}\n",
      "{'_id': ObjectId('607de669840ddf9fd38e171e'),\n",
      " 'fruit': 'fruit_type',\n",
      " 'quantity': 'quantity',\n",
      " 'ripeness': 'ripeness',\n",
      " 'vendor': 'vendor_name'}\n",
      "{'_id': ObjectId('607de6f015f8ee35450cb9cd'),\n",
      " 'fruit': 'Mango',\n",
      " 'quantity': '15',\n",
      " 'ripeness': '3',\n",
      " 'vendor': 'Vendor A'}\n"
     ]
    }
   ],
   "source": [
    "fruit_bowl = fruits.find()\n",
    "\n",
    "for fruit in fruit_bowl:\n",
    "   pprint(fruit)"
   ]
  },
  {
   "cell_type": "code",
   "execution_count": 9,
   "metadata": {},
   "outputs": [
    {
     "data": {
      "text/plain": [
       "<pymongo.results.DeleteResult at 0x26673666140>"
      ]
     },
     "execution_count": 9,
     "metadata": {},
     "output_type": "execute_result"
    }
   ],
   "source": [
    "fruits.delete_one({'fruit': 'fruit_type'})"
   ]
  },
  {
   "cell_type": "code",
   "execution_count": 10,
   "metadata": {},
   "outputs": [
    {
     "name": "stdout",
     "output_type": "stream",
     "text": [
      "{'_id': ObjectId('607cf03dcfc021af6662f8e3'),\n",
      " 'fruit': 'banana',\n",
      " 'quantity': 10,\n",
      " 'ripeness': 2,\n",
      " 'vendor': 'vendor_1'}\n",
      "{'_id': ObjectId('607de6f015f8ee35450cb9cd'),\n",
      " 'fruit': 'Mango',\n",
      " 'quantity': '15',\n",
      " 'ripeness': '3',\n",
      " 'vendor': 'Vendor A'}\n"
     ]
    }
   ],
   "source": [
    "fruit_bowl = fruits.find()\n",
    "\n",
    "for fruit in fruit_bowl:\n",
    "   pprint(fruit)"
   ]
  },
  {
   "cell_type": "code",
   "execution_count": null,
   "metadata": {},
   "outputs": [],
   "source": []
  }
 ],
 "metadata": {
  "kernelspec": {
   "display_name": "Python 3",
   "language": "python",
   "name": "python3"
  },
  "language_info": {
   "codemirror_mode": {
    "name": "ipython",
    "version": 3
   },
   "file_extension": ".py",
   "mimetype": "text/x-python",
   "name": "python",
   "nbconvert_exporter": "python",
   "pygments_lexer": "ipython3",
   "version": "3.8.5"
  }
 },
 "nbformat": 4,
 "nbformat_minor": 2
}
