{
 "cells": [
  {
   "cell_type": "code",
   "execution_count": 1,
   "metadata": {},
   "outputs": [],
   "source": [
    "import pymongo"
   ]
  },
  {
   "cell_type": "code",
   "execution_count": 2,
   "metadata": {},
   "outputs": [],
   "source": [
    "conn = 'mongodb://localhost:27017'\n",
    "client = pymongo.MongoClient(conn)"
   ]
  },
  {
   "cell_type": "code",
   "execution_count": 3,
   "metadata": {},
   "outputs": [],
   "source": [
    "db = client.classDB"
   ]
  },
  {
   "cell_type": "code",
   "execution_count": 4,
   "metadata": {},
   "outputs": [
    {
     "data": {
      "text/plain": [
       "<pymongo.results.InsertOneResult at 0x217b360cc40>"
      ]
     },
     "execution_count": 4,
     "metadata": {},
     "output_type": "execute_result"
    }
   ],
   "source": [
    "db.classroom.insert_one(\n",
    "    {\"name\":\"Jess\",\n",
    "     \"row\":'4',\n",
    "     'favorite_python_library':'Pandas', \n",
    "     'hobbies':['soccer', 'baseball','reading novels']   \n",
    "})"
   ]
  },
  {
   "cell_type": "code",
   "execution_count": 5,
   "metadata": {},
   "outputs": [
    {
     "name": "stdout",
     "output_type": "stream",
     "text": [
      "{'_id': ObjectId('607ce61ce01eb1a7384977bc'), 'name': 'Jess', 'row': '4', 'favorite_python_library': 'Pandas', 'hobbies': ['soccer', 'baseball', 'reading novels']}\n",
      "{'_id': ObjectId('607cebe1269f61df68a37c62'), 'name': 'Jess', 'row': '4', 'favorite_python_library': 'Pandas', 'hobbies': ['soccer', 'baseball', 'reading novels']}\n"
     ]
    }
   ],
   "source": [
    "classroom = db.classroom.find()\n",
    "for student in classroom:\n",
    "    print(student)"
   ]
  },
  {
   "cell_type": "code",
   "execution_count": 6,
   "metadata": {},
   "outputs": [
    {
     "data": {
      "text/plain": [
       "<pymongo.results.UpdateResult at 0x217b3022d80>"
      ]
     },
     "execution_count": 6,
     "metadata": {},
     "output_type": "execute_result"
    }
   ],
   "source": [
    "db.classroom.update_one({'name':'Jess'}, {'$set': {'name':'Trisha'}})"
   ]
  },
  {
   "cell_type": "code",
   "execution_count": 7,
   "metadata": {},
   "outputs": [
    {
     "name": "stdout",
     "output_type": "stream",
     "text": [
      "{'_id': ObjectId('607ce61ce01eb1a7384977bc'), 'name': 'Trisha', 'row': '4', 'favorite_python_library': 'Pandas', 'hobbies': ['soccer', 'baseball', 'reading novels']}\n",
      "{'_id': ObjectId('607cebe1269f61df68a37c62'), 'name': 'Jess', 'row': '4', 'favorite_python_library': 'Pandas', 'hobbies': ['soccer', 'baseball', 'reading novels']}\n"
     ]
    }
   ],
   "source": [
    "classroom = db.classroom.find()\n",
    "for student in classroom:\n",
    "    print(student)"
   ]
  },
  {
   "cell_type": "code",
   "execution_count": 8,
   "metadata": {},
   "outputs": [
    {
     "name": "stdout",
     "output_type": "stream",
     "text": [
      "{'_id': ObjectId('607cebe1269f61df68a37c62'), 'name': 'Jess', 'row': '4', 'favorite_python_library': 'Pandas', 'hobbies': ['soccer', 'baseball', 'reading novels']}\n"
     ]
    }
   ],
   "source": [
    "db.classroom.delete_one(\n",
    "    {'name': 'Trisha'}\n",
    ")\n",
    "classroom = db.classroom.find()\n",
    "\n",
    "for student in classroom:\n",
    "    print(student)"
   ]
  },
  {
   "cell_type": "code",
   "execution_count": 10,
   "metadata": {},
   "outputs": [
    {
     "data": {
      "text/plain": [
       "<pymongo.results.DeleteResult at 0x217b36c2fc0>"
      ]
     },
     "execution_count": 10,
     "metadata": {},
     "output_type": "execute_result"
    }
   ],
   "source": [
    "db.classroom.delete_one(\n",
    "    {'name': 'Jess'}\n",
    ")"
   ]
  },
  {
   "cell_type": "code",
   "execution_count": 11,
   "metadata": {},
   "outputs": [],
   "source": [
    "classroom = db.classroom.find()\n",
    "\n",
    "for student in classroom:\n",
    "    print(student)"
   ]
  }
 ],
 "metadata": {
  "kernelspec": {
   "display_name": "Python 3",
   "language": "python",
   "name": "python3"
  },
  "language_info": {
   "codemirror_mode": {
    "name": "ipython",
    "version": 3
   },
   "file_extension": ".py",
   "mimetype": "text/x-python",
   "name": "python",
   "nbconvert_exporter": "python",
   "pygments_lexer": "ipython3",
   "version": "3.8.5"
  }
 },
 "nbformat": 4,
 "nbformat_minor": 2
}
