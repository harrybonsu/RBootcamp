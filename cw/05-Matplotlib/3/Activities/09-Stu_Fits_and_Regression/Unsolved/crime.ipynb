{
 "cells": [
  {
   "cell_type": "code",
   "execution_count": 1,
   "metadata": {},
   "outputs": [],
   "source": [
    "# Dependencies\n",
    "from matplotlib import pyplot as plt\n",
    "from scipy import stats\n",
    "import numpy as np\n",
    "import pandas as pd"
   ]
  },
  {
   "cell_type": "code",
   "execution_count": 2,
   "metadata": {},
   "outputs": [
    {
     "data": {
      "text/html": [
       "<div>\n",
       "<style scoped>\n",
       "    .dataframe tbody tr th:only-of-type {\n",
       "        vertical-align: middle;\n",
       "    }\n",
       "\n",
       "    .dataframe tbody tr th {\n",
       "        vertical-align: top;\n",
       "    }\n",
       "\n",
       "    .dataframe thead th {\n",
       "        text-align: right;\n",
       "    }\n",
       "</style>\n",
       "<table border=\"1\" class=\"dataframe\">\n",
       "  <thead>\n",
       "    <tr style=\"text-align: right;\">\n",
       "      <th></th>\n",
       "      <th>year</th>\n",
       "      <th>population</th>\n",
       "      <th>violent crime</th>\n",
       "      <th>violent crime rate</th>\n",
       "      <th>murder and non-negligent manslaughter</th>\n",
       "      <th>murder and non-negligent manslaughter rate</th>\n",
       "      <th>rape</th>\n",
       "      <th>rape rate</th>\n",
       "      <th>robbery</th>\n",
       "      <th>robbery rate</th>\n",
       "      <th>aggravated assault</th>\n",
       "      <th>aggravated assault rate</th>\n",
       "      <th>property crime</th>\n",
       "      <th>property crime rate</th>\n",
       "      <th>burglary</th>\n",
       "      <th>burglary rate</th>\n",
       "      <th>larceny-theft</th>\n",
       "      <th>larceny-theft rate</th>\n",
       "      <th>motor vehicle theft</th>\n",
       "      <th>motor vehicle theft rate</th>\n",
       "    </tr>\n",
       "  </thead>\n",
       "  <tbody>\n",
       "    <tr>\n",
       "      <th>0</th>\n",
       "      <td>1994.0</td>\n",
       "      <td>260327021.0</td>\n",
       "      <td>1857670.0</td>\n",
       "      <td>713.6</td>\n",
       "      <td>23326.0</td>\n",
       "      <td>9.0</td>\n",
       "      <td>102216.0</td>\n",
       "      <td>39.3</td>\n",
       "      <td>618949.0</td>\n",
       "      <td>237.8</td>\n",
       "      <td>1113179.0</td>\n",
       "      <td>427.6</td>\n",
       "      <td>12131873.0</td>\n",
       "      <td>4660.2</td>\n",
       "      <td>2712774.0</td>\n",
       "      <td>1042.1</td>\n",
       "      <td>7879812.0</td>\n",
       "      <td>3026.9</td>\n",
       "      <td>1539287.0</td>\n",
       "      <td>591.3</td>\n",
       "    </tr>\n",
       "    <tr>\n",
       "      <th>1</th>\n",
       "      <td>1995.0</td>\n",
       "      <td>262803276.0</td>\n",
       "      <td>1798792.0</td>\n",
       "      <td>684.5</td>\n",
       "      <td>21606.0</td>\n",
       "      <td>8.2</td>\n",
       "      <td>97470.0</td>\n",
       "      <td>37.1</td>\n",
       "      <td>580509.0</td>\n",
       "      <td>220.9</td>\n",
       "      <td>1099207.0</td>\n",
       "      <td>418.3</td>\n",
       "      <td>12063935.0</td>\n",
       "      <td>4590.5</td>\n",
       "      <td>2593784.0</td>\n",
       "      <td>987.0</td>\n",
       "      <td>7997710.0</td>\n",
       "      <td>3043.2</td>\n",
       "      <td>1472441.0</td>\n",
       "      <td>560.3</td>\n",
       "    </tr>\n",
       "    <tr>\n",
       "      <th>2</th>\n",
       "      <td>1996.0</td>\n",
       "      <td>265228572.0</td>\n",
       "      <td>1688540.0</td>\n",
       "      <td>636.6</td>\n",
       "      <td>19645.0</td>\n",
       "      <td>7.4</td>\n",
       "      <td>96252.0</td>\n",
       "      <td>36.3</td>\n",
       "      <td>535594.0</td>\n",
       "      <td>201.9</td>\n",
       "      <td>1037049.0</td>\n",
       "      <td>391.0</td>\n",
       "      <td>11805323.0</td>\n",
       "      <td>4451.0</td>\n",
       "      <td>2506400.0</td>\n",
       "      <td>945.0</td>\n",
       "      <td>7904685.0</td>\n",
       "      <td>2980.3</td>\n",
       "      <td>1394238.0</td>\n",
       "      <td>525.7</td>\n",
       "    </tr>\n",
       "    <tr>\n",
       "      <th>3</th>\n",
       "      <td>1997.0</td>\n",
       "      <td>267783607.0</td>\n",
       "      <td>1636096.0</td>\n",
       "      <td>611.0</td>\n",
       "      <td>18208.0</td>\n",
       "      <td>6.8</td>\n",
       "      <td>96153.0</td>\n",
       "      <td>35.9</td>\n",
       "      <td>498534.0</td>\n",
       "      <td>186.2</td>\n",
       "      <td>1023201.0</td>\n",
       "      <td>382.1</td>\n",
       "      <td>11558475.0</td>\n",
       "      <td>4316.3</td>\n",
       "      <td>2460526.0</td>\n",
       "      <td>918.8</td>\n",
       "      <td>7743760.0</td>\n",
       "      <td>2891.8</td>\n",
       "      <td>1354189.0</td>\n",
       "      <td>505.7</td>\n",
       "    </tr>\n",
       "    <tr>\n",
       "      <th>4</th>\n",
       "      <td>1998.0</td>\n",
       "      <td>270248003.0</td>\n",
       "      <td>1533887.0</td>\n",
       "      <td>567.6</td>\n",
       "      <td>16974.0</td>\n",
       "      <td>6.3</td>\n",
       "      <td>93144.0</td>\n",
       "      <td>34.5</td>\n",
       "      <td>447186.0</td>\n",
       "      <td>165.5</td>\n",
       "      <td>976583.0</td>\n",
       "      <td>361.4</td>\n",
       "      <td>10951827.0</td>\n",
       "      <td>4052.5</td>\n",
       "      <td>2332735.0</td>\n",
       "      <td>863.2</td>\n",
       "      <td>7376311.0</td>\n",
       "      <td>2729.5</td>\n",
       "      <td>1242781.0</td>\n",
       "      <td>459.9</td>\n",
       "    </tr>\n",
       "  </tbody>\n",
       "</table>\n",
       "</div>"
      ],
      "text/plain": [
       "     year   population  violent crime  violent crime rate  \\\n",
       "0  1994.0  260327021.0      1857670.0               713.6   \n",
       "1  1995.0  262803276.0      1798792.0               684.5   \n",
       "2  1996.0  265228572.0      1688540.0               636.6   \n",
       "3  1997.0  267783607.0      1636096.0               611.0   \n",
       "4  1998.0  270248003.0      1533887.0               567.6   \n",
       "\n",
       "   murder and non-negligent manslaughter  \\\n",
       "0                                23326.0   \n",
       "1                                21606.0   \n",
       "2                                19645.0   \n",
       "3                                18208.0   \n",
       "4                                16974.0   \n",
       "\n",
       "    murder and non-negligent manslaughter rate      rape  rape rate   robbery  \\\n",
       "0                                          9.0  102216.0       39.3  618949.0   \n",
       "1                                          8.2   97470.0       37.1  580509.0   \n",
       "2                                          7.4   96252.0       36.3  535594.0   \n",
       "3                                          6.8   96153.0       35.9  498534.0   \n",
       "4                                          6.3   93144.0       34.5  447186.0   \n",
       "\n",
       "   robbery rate   aggravated assault  aggravated assault rate  property crime  \\\n",
       "0         237.8            1113179.0                    427.6      12131873.0   \n",
       "1         220.9            1099207.0                    418.3      12063935.0   \n",
       "2         201.9            1037049.0                    391.0      11805323.0   \n",
       "3         186.2            1023201.0                    382.1      11558475.0   \n",
       "4         165.5             976583.0                    361.4      10951827.0   \n",
       "\n",
       "   property crime rate   burglary  burglary rate  larceny-theft  \\\n",
       "0               4660.2  2712774.0         1042.1      7879812.0   \n",
       "1               4590.5  2593784.0          987.0      7997710.0   \n",
       "2               4451.0  2506400.0          945.0      7904685.0   \n",
       "3               4316.3  2460526.0          918.8      7743760.0   \n",
       "4               4052.5  2332735.0          863.2      7376311.0   \n",
       "\n",
       "   larceny-theft rate  motor vehicle theft  motor vehicle theft rate  \n",
       "0              3026.9            1539287.0                     591.3  \n",
       "1              3043.2            1472441.0                     560.3  \n",
       "2              2980.3            1394238.0                     525.7  \n",
       "3              2891.8            1354189.0                     505.7  \n",
       "4              2729.5            1242781.0                     459.9  "
      ]
     },
     "execution_count": 2,
     "metadata": {},
     "output_type": "execute_result"
    }
   ],
   "source": [
    "# Load crime data set into pandas\n",
    "crime_data = pd.read_csv(\"../Resources/crime_data.csv\")\n",
    "crime_data.head()"
   ]
  },
  {
   "cell_type": "code",
   "execution_count": 3,
   "metadata": {},
   "outputs": [
    {
     "data": {
      "image/png": "[encoded data removed]",
      "text/plain": [
       "<Figure size 432x288 with 1 Axes>"
      ]
     },
     "metadata": {
      "needs_background": "light"
     },
     "output_type": "display_data"
    }
   ],
   "source": [
    "# Generate a scatter plot of year versus violent crime rate\n",
    "year = crime_data.iloc[:,0]\n",
    "violent_crime_rate = crime_data.iloc[:,2]\n",
    "plt.scatter(year, violent_crime_rate)\n",
    "plt.xlabel('Year')\n",
    "plt.ylabel('Violent Crime Rate')\n",
    "plt.show()"
   ]
  },
  {
   "cell_type": "code",
   "execution_count": 5,
   "metadata": {},
   "outputs": [],
   "source": [
    "# Perform a linear regression on year versus violent crime rate\n",
    "(slope, intercept, rvalue, pvalue, stderr) = stats.linregress(year, violent_crime_rate)"
   ]
  },
  {
   "cell_type": "code",
   "execution_count": 24,
   "metadata": {},
   "outputs": [],
   "source": [
    "# Create equation of line to calculate predicted violent crime rate\n",
    "regress_values = year * slope + intercept"
   ]
  },
  {
   "cell_type": "code",
   "execution_count": 9,
   "metadata": {},
   "outputs": [
    {
     "data": {
      "image/png": "[encoded data removed]",
      "text/plain": [
       "<Figure size 432x288 with 1 Axes>"
      ]
     },
     "metadata": {
      "needs_background": "light"
     },
     "output_type": "display_data"
    }
   ],
   "source": [
    "# Plot the linear model on top of scatter plot \n",
    "year = crime_data.iloc[:,0]\n",
    "crime_rate = crime_data.iloc[:,2]\n",
    "regress_values = year * slope + intercept\n",
    "plt.plot(year, regress_values, \"--\", color='red')\n",
    "(slope, intercept, rvalue, pvalue, stderr) = stats.linregress(year, crime_rate)\n",
    "\n",
    "\n",
    "plt.scatter(year,crime_rate)\n",
    "plt.xlabel('Year')\n",
    "plt.ylabel('Violent Crime Rate')\n",
    "plt.show()"
   ]
  },
  {
   "cell_type": "code",
   "execution_count": 11,
   "metadata": {},
   "outputs": [
    {
     "data": {
      "image/png": "[encoded data removed]",
      "text/plain": [
       "<Figure size 432x288 with 1 Axes>"
      ]
     },
     "metadata": {
      "needs_background": "light"
     },
     "output_type": "display_data"
    }
   ],
   "source": [
    "# Repeat plotting scatter and linear model for year versus murder rate\n",
    "year = crime_data.iloc[:,0]\n",
    "murder_rate = crime_data.iloc[:,5]\n",
    "regress_values = year * slope + intercept\n",
    "plt.plot(year, regress_values, \"--\", color='red')\n",
    "x_values = year\n",
    "y_values = murder_rate\n",
    "(slope, intercept, rvalue, pvalue, stderr) = stats.linregress(x_values, y_values)\n",
    "\n",
    "\n",
    "plt.scatter(year, murder_rate)\n",
    "\n",
    "plt.xlabel('Year')\n",
    "plt.ylabel('murder and non-negligent manslaughter rate')\n",
    "plt.show()"
   ]
  },
  {
   "cell_type": "code",
   "execution_count": 13,
   "metadata": {},
   "outputs": [
    {
     "data": {
      "image/png": "[encoded data removed]",
      "text/plain": [
       "<Figure size 432x288 with 1 Axes>"
      ]
     },
     "metadata": {
      "needs_background": "light"
     },
     "output_type": "display_data"
    }
   ],
   "source": [
    "# Repeat plotting scatter and linear model for year versus aggravated assault\n",
    "year = crime_data.iloc[:,0]\n",
    "agg_assault = crime_data.iloc[:,10]\n",
    "regress_values = year * slope + intercept\n",
    "\n",
    "plt.plot(year, regress_values, \"--\", color='red')\n",
    "x_values = year\n",
    "y_values = agg_assault\n",
    "(slope, intercept, rvalue, pvalue, stderr) = stats.linregress(x_values, y_values)\n",
    "\n",
    "\n",
    "plt.scatter(year, agg_assault)\n",
    "\n",
    "plt.xlabel('Year')\n",
    "plt.ylabel('Aggravated Assault')\n",
    "plt.show()"
   ]
  },
  {
   "cell_type": "code",
   "execution_count": 21,
   "metadata": {},
   "outputs": [
    {
     "data": {
      "text/plain": [
       "[<matplotlib.lines.Line2D at 0x23800c81fd0>]"
      ]
     },
     "execution_count": 21,
     "metadata": {},
     "output_type": "execute_result"
    },
    {
     "data": {
      "image/png": "[encoded data removed]",
      "text/plain": [
       "<Figure size 432x288 with 3 Axes>"
      ]
     },
     "metadata": {
      "needs_background": "light"
     },
     "output_type": "display_data"
    }
   ],
   "source": [
    "# Generate a facet plot of all 3 figures\n",
    "fig,(ax1,ax2,ax3) = plt.subplots(3,sharex=True)\n",
    "\n",
    "ax1.scatter(year,crime_rate)\n",
    "ax1.plot(year, regress_values, \"--\", color='red')\n",
    "\n",
    "ax2.scatter(year, murder_rate)\n",
    "ax2.plot(year, regress_values, \"--\", color='red')\n",
    "\n",
    "ax3.scatter(year, agg_assault)\n",
    "ax3.plot(year, regress_values, \"--\", color='red')"
   ]
  },
  {
   "cell_type": "code",
   "execution_count": 23,
   "metadata": {},
   "outputs": [
    {
     "data": {
      "text/plain": [
       "618607.348120302"
      ]
     },
     "execution_count": 23,
     "metadata": {},
     "output_type": "execute_result"
    }
   ],
   "source": [
    "# Calculate the crime rates for 2019\n",
    "crime = 2019 * slope + intercept\n",
    "crime"
   ]
  }
 ],
 "metadata": {
  "kernelspec": {
   "display_name": "Python 3",
   "language": "python",
   "name": "python3"
  },
  "language_info": {
   "codemirror_mode": {
    "name": "ipython",
    "version": 3
   },
   "file_extension": ".py",
   "mimetype": "text/x-python",
   "name": "python",
   "nbconvert_exporter": "python",
   "pygments_lexer": "ipython3",
   "version": "3.8.5"
  }
 },
 "nbformat": 4,
 "nbformat_minor": 2
}
