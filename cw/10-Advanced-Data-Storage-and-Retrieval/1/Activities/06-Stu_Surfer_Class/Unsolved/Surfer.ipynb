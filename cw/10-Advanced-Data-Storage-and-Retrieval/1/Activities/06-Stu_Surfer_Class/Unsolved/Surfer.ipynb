{
 "cells": [
  {
   "cell_type": "code",
   "execution_count": 1,
   "metadata": {},
   "outputs": [],
   "source": [
    "# Define the Surfer Class\n",
    "class Surfer():\n",
    "\n",
    "  # Initialize the Surfer constructor \n",
    "  def __init__(self, name, hometown, rank):\n",
    "        self.name = name + \" \" + \"Dude\"\n",
    "        self.hometown = hometown + \" \" + \"Waves\"\n",
    "        self.rank = rank\n"
   ]
  },
  {
   "cell_type": "code",
   "execution_count": 2,
   "metadata": {},
   "outputs": [],
   "source": [
    "# Create an instance of the Surfer Class\n",
    "surfer = Surfer('Harry', 'East Windsor', 1)"
   ]
  },
  {
   "cell_type": "code",
   "execution_count": 3,
   "metadata": {},
   "outputs": [
    {
     "name": "stdout",
     "output_type": "stream",
     "text": [
      "Harry Dude\n",
      "East Windsor Waves\n",
      "1\n"
     ]
    }
   ],
   "source": [
    "# Print the object's attributes\n",
    "print(surfer.name)\n",
    "print(surfer.hometown)\n",
    "print(surfer.rank)"
   ]
  },
  {
   "cell_type": "code",
   "execution_count": 5,
   "metadata": {},
   "outputs": [
    {
     "name": "stdout",
     "output_type": "stream",
     "text": [
      "What is the surfer's name? Harry\n",
      "What is the surfer's hometown? East Windsor\n",
      "What is the surfer's rank? 1\n",
      "Harry Dude\n",
      "East Windsor Waves\n",
      "1\n",
      "Would you like to continue? (y/n) n\n"
     ]
    }
   ],
   "source": [
    "# ----BONUS----\n",
    "# Variable to keep track of changes to while loop\n",
    "go = True\n",
    "\n",
    "# While loop runs so long as go is True\n",
    "while go:\n",
    "\n",
    "    # Ask for user input and store answers within variables\n",
    "    name = input(\"What is the surfer's name? \")\n",
    "    hometown = input(\"What is the surfer's hometown? \")\n",
    "    rank = int(input(\"What is the surfer's rank? \"))\n",
    "\n",
    "    # Create a new instance of the Surfer class using these values\n",
    "    surfer = Surfer(name, hometown, rank)\n",
    "\n",
    "    # Print the object's attributes\n",
    "    print(surfer.name)\n",
    "    print(surfer.hometown)\n",
    "    print(surfer.rank)\n",
    "\n",
    "    # Check to see if the user would like to continue\n",
    "    check = input(\"Would you like to continue? (y/n) \")\n",
    "    if (check == \"y\"):\n",
    "        go = True\n",
    "    else: \n",
    "        go = False\n",
    "    \n",
    "  \n",
    "    \n"
   ]
  },
  {
   "cell_type": "code",
   "execution_count": 14,
   "metadata": {},
   "outputs": [],
   "source": [
    "class Honda():\n",
    "    def __init__(self, make, year, color):\n",
    "        self.make = \"Honda \" + make\n",
    "        self.year = year\n",
    "        self.color = color\n",
    "        "
   ]
  },
  {
   "cell_type": "code",
   "execution_count": 15,
   "metadata": {},
   "outputs": [],
   "source": [
    "car = Honda('Accord', 2020, 'Black')"
   ]
  },
  {
   "cell_type": "code",
   "execution_count": 16,
   "metadata": {},
   "outputs": [
    {
     "name": "stdout",
     "output_type": "stream",
     "text": [
      "Honda Accord\n",
      "2020\n",
      "Black\n"
     ]
    }
   ],
   "source": [
    "print(car.make)\n",
    "print(car.year)\n",
    "print(car.color)"
   ]
  },
  {
   "cell_type": "code",
   "execution_count": null,
   "metadata": {},
   "outputs": [],
   "source": []
  }
 ],
 "metadata": {
  "kernelspec": {
   "display_name": "Python 3",
   "language": "python",
   "name": "python3"
  },
  "language_info": {
   "codemirror_mode": {
    "name": "ipython",
    "version": 3
   },
   "file_extension": ".py",
   "mimetype": "text/x-python",
   "name": "python",
   "nbconvert_exporter": "python",
   "pygments_lexer": "ipython3",
   "version": "3.8.5"
  },
  "varInspector": {
   "cols": {
    "lenName": 16,
    "lenType": 16,
    "lenVar": 40
   },
   "kernels_config": {
    "python": {
     "delete_cmd_postfix": "",
     "delete_cmd_prefix": "del ",
     "library": "var_list.py",
     "varRefreshCmd": "print(var_dic_list())"
    },
    "r": {
     "delete_cmd_postfix": ") ",
     "delete_cmd_prefix": "rm(",
     "library": "var_list.r",
     "varRefreshCmd": "cat(var_dic_list()) "
    }
   },
   "types_to_exclude": [
    "module",
    "function",
    "builtin_function_or_method",
    "instance",
    "_Feature"
   ],
   "window_display": false
  }
 },
 "nbformat": 4,
 "nbformat_minor": 2
}
