{
 "cells": [
  {
   "cell_type": "code",
   "execution_count": 24,
   "metadata": {},
   "outputs": [],
   "source": [
    "# Define the Surfer Class\n",
    "class Surfer():\n",
    "\n",
    "    # Keep track of surfer count as they are created\n",
    "    surferCount = 0\n",
    "\n",
    "    # Constructor\n",
    "    # --------------------------------------------------------------------------------\n",
    "    # Initialize the surfer and assign each surfer a new surfer count upon creation\n",
    "    def __init__(self, name, hometown, rank, wipeouts=0):\n",
    "        self.name = name\n",
    "        self.hometown = hometown\n",
    "        self.rank = rank\n",
    "        self.wipeouts = wipeouts\n",
    "        Surfer.surferCount += 1\n",
    "\n",
    "    \n",
    "    # Class Methods\n",
    "    # --------------------------------------------------------------------------------\n",
    "    # Prints what number surfer they are based on when they were created\n",
    "    def surfer_pos(self):\n",
    "        print(\"Surfer's position is \" + str(Surfer.surferCount))\n",
    "\n",
    "    # Prints out simple string\n",
    "    def speak(self):\n",
    "        print(\"Hangs loose, bruh!\")\n",
    "    \n",
    "    def biography(self):\n",
    "        print(\"Surfer's name is \" + self.name + \"Surfer hometown is \" + self.hometown)\n",
    "        \n",
    "    def cheer(self):\n",
    "        if self.wipeouts ==0:\n",
    "            print(\"I totally rock man, no wipeouts!\")\n",
    "        else:\n",
    "            print(\"Bummer bruh, keep on keeping on!\")\n"
   ]
  },
  {
   "cell_type": "code",
   "execution_count": 31,
   "metadata": {},
   "outputs": [
    {
     "name": "stdout",
     "output_type": "stream",
     "text": [
      "Harry\n",
      "0\n",
      "Surfer's position is 7\n",
      "None\n",
      "Hangs loose, bruh!\n",
      "None\n",
      "Bummer bruh, keep on keeping on!\n",
      "None\n"
     ]
    }
   ],
   "source": [
    "# Create Surfers\n",
    "# --------------------------------------------------------------------------------\n",
    "surfer_1 = Surfer(\"Harry\", \"East Windsor\", \"1\", \"0\")\n",
    "print(surfer_1.name)\n",
    "print(surfer_1.wipeouts)\n",
    "print(surfer_1.surfer_pos())\n",
    "print(surfer_1.speak())\n",
    "print(surfer_1.cheer())"
   ]
  },
  {
   "cell_type": "code",
   "execution_count": null,
   "metadata": {},
   "outputs": [],
   "source": []
  }
 ],
 "metadata": {
  "kernelspec": {
   "display_name": "Python 3",
   "language": "python",
   "name": "python3"
  },
  "language_info": {
   "codemirror_mode": {
    "name": "ipython",
    "version": 3
   },
   "file_extension": ".py",
   "mimetype": "text/x-python",
   "name": "python",
   "nbconvert_exporter": "python",
   "pygments_lexer": "ipython3",
   "version": "3.8.5"
  },
  "varInspector": {
   "cols": {
    "lenName": 16,
    "lenType": 16,
    "lenVar": 40
   },
   "kernels_config": {
    "python": {
     "delete_cmd_postfix": "",
     "delete_cmd_prefix": "del ",
     "library": "var_list.py",
     "varRefreshCmd": "print(var_dic_list())"
    },
    "r": {
     "delete_cmd_postfix": ") ",
     "delete_cmd_prefix": "rm(",
     "library": "var_list.r",
     "varRefreshCmd": "cat(var_dic_list()) "
    }
   },
   "types_to_exclude": [
    "module",
    "function",
    "builtin_function_or_method",
    "instance",
    "_Feature"
   ],
   "window_display": false
  }
 },
 "nbformat": 4,
 "nbformat_minor": 2
}
