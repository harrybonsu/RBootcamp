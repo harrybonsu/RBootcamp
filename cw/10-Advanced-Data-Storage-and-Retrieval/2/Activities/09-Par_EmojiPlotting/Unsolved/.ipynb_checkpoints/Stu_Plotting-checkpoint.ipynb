{
 "cells": [
  {
   "cell_type": "markdown",
   "metadata": {
    "slideshow": {
     "slide_type": "slide"
    }
   },
   "source": [
    "# Plotting Query Results"
   ]
  },
  {
   "cell_type": "markdown",
   "metadata": {
    "slideshow": {
     "slide_type": "slide"
    }
   },
   "source": [
    "## Setup"
   ]
  },
  {
   "cell_type": "code",
   "execution_count": 27,
   "metadata": {
    "nbgrader": {
     "grade": false,
     "grade_id": "cell-e510ac54ba806bbd",
     "locked": false,
     "schema_version": 1,
     "solution": true
    },
    "slideshow": {
     "slide_type": "subslide"
    }
   },
   "outputs": [],
   "source": [
    "# Import Matplot lib\n",
    "import matplotlib\n",
    "from matplotlib import style\n",
    "style.use('seaborn')\n",
    "import matplotlib.pyplot as plt"
   ]
  },
  {
   "cell_type": "code",
   "execution_count": 28,
   "metadata": {
    "slideshow": {
     "slide_type": "subslide"
    }
   },
   "outputs": [],
   "source": [
    "import pandas as pd"
   ]
  },
  {
   "cell_type": "code",
   "execution_count": 29,
   "metadata": {
    "nbgrader": {
     "grade": false,
     "grade_id": "cell-921fdfc7ea01c680",
     "locked": false,
     "schema_version": 1,
     "solution": true
    },
    "slideshow": {
     "slide_type": "subslide"
    }
   },
   "outputs": [],
   "source": [
    "# Import SQLAlchemy `automap` and other dependencies here\n",
    "import sqlalchemy\n",
    "from sqlalchemy.ext.automap import automap_base\n",
    "from sqlalchemy.orm import Session\n",
    "from sqlalchemy import create_engine, inspect, func"
   ]
  },
  {
   "cell_type": "code",
   "execution_count": 30,
   "metadata": {
    "nbgrader": {
     "grade": false,
     "grade_id": "cell-efd553d6954b61df",
     "locked": false,
     "schema_version": 1,
     "solution": true
    },
    "slideshow": {
     "slide_type": "subslide"
    }
   },
   "outputs": [],
   "source": [
    "# Create an engine for the `emoji.sqlite` database\n",
    "engine = create_engine(\"sqlite:///../Resources/emoji.sqlite\", echo=False)"
   ]
  },
  {
   "cell_type": "markdown",
   "metadata": {
    "slideshow": {
     "slide_type": "slide"
    }
   },
   "source": [
    "## Explore Database"
   ]
  },
  {
   "cell_type": "code",
   "execution_count": 31,
   "metadata": {
    "nbgrader": {
     "grade": false,
     "grade_id": "cell-0e48aa1f13dad563",
     "locked": false,
     "schema_version": 1,
     "solution": true
    },
    "slideshow": {
     "slide_type": "subslide"
    }
   },
   "outputs": [
    {
     "data": {
      "text/plain": [
       "['emoji']"
      ]
     },
     "execution_count": 31,
     "metadata": {},
     "output_type": "execute_result"
    }
   ],
   "source": [
    "# Use the Inspector to explore the database and print the table names\n",
    "inspector = inspect(engine)\n",
    "inspector.get_table_names()"
   ]
  },
  {
   "cell_type": "code",
   "execution_count": 32,
   "metadata": {
    "nbgrader": {
     "grade": false,
     "grade_id": "cell-087efd9d2f394098",
     "locked": false,
     "schema_version": 1,
     "solution": true
    },
    "slideshow": {
     "slide_type": "subslide"
    }
   },
   "outputs": [
    {
     "name": "stdout",
     "output_type": "stream",
     "text": [
      "id INTEGER\n",
      "emoji_char TEXT\n",
      "emoji_id TEXT\n",
      "name TEXT\n",
      "score INTEGER\n"
     ]
    }
   ],
   "source": [
    "# Use Inspector to print the column names and types\n",
    "columns = inspector.get_columns('emoji')\n",
    "for column in columns:\n",
    "    print(column[\"name\"], column[\"type\"])"
   ]
  },
  {
   "cell_type": "code",
   "execution_count": 33,
   "metadata": {
    "nbgrader": {
     "grade": false,
     "grade_id": "cell-d7b08585acddc3cc",
     "locked": false,
     "schema_version": 1,
     "solution": true
    },
    "slideshow": {
     "slide_type": "subslide"
    }
   },
   "outputs": [
    {
     "data": {
      "text/plain": [
       "[(1, '😂', '1F602', 'FACE WITH TEARS OF JOY', 1814832150),\n",
       " (2, '❤️', '2764', 'HEAVY BLACK HEART', 840619939),\n",
       " (3, '😍', '1F60D', 'SMILING FACE WITH HEART-SHAPED EYES', 680382416),\n",
       " (4, '♥️', '2665', 'BLACK HEART SUIT', 652715459),\n",
       " (5, '😭', '1F62D', 'LOUDLY CRYING FACE', 515991922),\n",
       " (6, '😊', '1F60A', 'SMILING FACE WITH SMILING EYES', 484540701),\n",
       " (7, '♻️', '267B', 'BLACK UNIVERSAL RECYCLING SYMBOL', 452489849),\n",
       " (8, '😒', '1F612', 'UNAMUSED FACE', 441690175),\n",
       " (9, '💕', '1F495', 'TWO HEARTS', 381679908),\n",
       " (10, '😘', '1F618', 'FACE THROWING A KISS', 377847645)]"
      ]
     },
     "execution_count": 33,
     "metadata": {},
     "output_type": "execute_result"
    }
   ],
   "source": [
    "# Use `engine.execute` to select and display the first 10 rows from the emoji table\n",
    "engine.execute('select * from emoji limit 10').fetchall()"
   ]
  },
  {
   "cell_type": "markdown",
   "metadata": {
    "slideshow": {
     "slide_type": "slide"
    }
   },
   "source": [
    "## Reflect database and Query"
   ]
  },
  {
   "cell_type": "code",
   "execution_count": 34,
   "metadata": {
    "slideshow": {
     "slide_type": "subslide"
    }
   },
   "outputs": [],
   "source": [
    "# Reflect Database into ORM class\n",
    "Base = automap_base()\n",
    "Base.prepare(engine, reflect=True)\n",
    "Emoji = Base.classes.emoji"
   ]
  },
  {
   "cell_type": "code",
   "execution_count": 35,
   "metadata": {
    "slideshow": {
     "slide_type": "fragment"
    }
   },
   "outputs": [],
   "source": [
    "# Start a session to query the database\n",
    "session = Session(engine)"
   ]
  },
  {
   "cell_type": "markdown",
   "metadata": {
    "slideshow": {
     "slide_type": "subslide"
    }
   },
   "source": [
    "Use Matplotlib to create a horizontal bar chart and plot the emoji `score` in descending order. Use `emoji_char` as the y-axis labels. Plot only the top 10 emojis ranked by score"
   ]
  },
  {
   "cell_type": "code",
   "execution_count": 36,
   "metadata": {
    "nbgrader": {
     "grade": false,
     "grade_id": "cell-f542e9079952a0d2",
     "locked": false,
     "schema_version": 1,
     "solution": true
    },
    "slideshow": {
     "slide_type": "fragment"
    }
   },
   "outputs": [],
   "source": [
    "# Query Emojis for `emoji_char`, `emoji_id`, and `score` and save the query into results\n",
    "results = session.query(Emoji.emoji_char, Emoji.emoji_id, Emoji.score).order_by(Emoji.score.desc()).all()"
   ]
  },
  {
   "cell_type": "markdown",
   "metadata": {
    "slideshow": {
     "slide_type": "subslide"
    }
   },
   "source": [
    "Unpack tuples using list comprehensions"
   ]
  },
  {
   "cell_type": "code",
   "execution_count": 37,
   "metadata": {
    "nbgrader": {
     "grade": false,
     "grade_id": "cell-cb3a057af2014c2c",
     "locked": false,
     "schema_version": 1,
     "solution": true
    },
    "slideshow": {
     "slide_type": "fragment"
    }
   },
   "outputs": [
    {
     "name": "stdout",
     "output_type": "stream",
     "text": [
      "['1F602', '2764', '1F60D', '2665', '1F62D', '1F60A', '267B', '1F612', '1F495', '1F618']\n",
      "[1814832150, 840619939, 680382416, 652715459, 515991922, 484540701, 452489849, 441690175, 381679908, 377847645]\n"
     ]
    }
   ],
   "source": [
    "# Unpack the `emoji_id` and `scores` from results and save into separate lists\n",
    "emoji_id = []\n",
    "for result in results[:10]:\n",
    "    emoji_id.append(result[1])\n",
    "print(emoji_id)\n",
    "\n",
    "scores = []\n",
    "for result in results[:10]:\n",
    "    scores.append(result[2])\n",
    "print(scores)"
   ]
  },
  {
   "cell_type": "markdown",
   "metadata": {
    "slideshow": {
     "slide_type": "slide"
    }
   },
   "source": [
    "## Plot using Matplotlib"
   ]
  },
  {
   "cell_type": "code",
   "execution_count": 38,
   "metadata": {},
   "outputs": [],
   "source": [
    "emoji_rev = emoji_id[::-1]\n",
    "scores_rev = scores[::-1]"
   ]
  },
  {
   "cell_type": "code",
   "execution_count": 41,
   "metadata": {
    "nbgrader": {
     "grade": false,
     "grade_id": "cell-80891ad9d9412629",
     "locked": false,
     "schema_version": 1,
     "solution": true
    },
    "slideshow": {
     "slide_type": "subslide"
    }
   },
   "outputs": [
    {
     "data": {
      "image/png": "[encoded data removed]",
      "text/plain": [
       "<Figure size 576x396 with 1 Axes>"
      ]
     },
     "metadata": {},
     "output_type": "display_data"
    }
   ],
   "source": [
    "# Create a horizontal bar chart and plot the `emoji_id` on the y-axis and the `score` on the x-axis\n",
    "# Challenge: Try to plot the scores in descending order on the graph (The largest score is at the top)\n",
    "plt.barh(emoji_rev, scores_rev)\n",
    "plt.show()"
   ]
  },
  {
   "cell_type": "markdown",
   "metadata": {
    "slideshow": {
     "slide_type": "slide"
    }
   },
   "source": [
    "## Plot using Pandas Plotting"
   ]
  },
  {
   "cell_type": "markdown",
   "metadata": {
    "slideshow": {
     "slide_type": "subslide"
    }
   },
   "source": [
    "Load the results into a Pandas DataFrame"
   ]
  },
  {
   "cell_type": "code",
   "execution_count": 42,
   "metadata": {
    "nbgrader": {
     "grade": false,
     "grade_id": "cell-8f9936e71374d442",
     "locked": false,
     "schema_version": 1,
     "solution": true
    },
    "slideshow": {
     "slide_type": "fragment"
    }
   },
   "outputs": [
    {
     "data": {
      "text/html": [
       "<div>\n",
       "<style scoped>\n",
       "    .dataframe tbody tr th:only-of-type {\n",
       "        vertical-align: middle;\n",
       "    }\n",
       "\n",
       "    .dataframe tbody tr th {\n",
       "        vertical-align: top;\n",
       "    }\n",
       "\n",
       "    .dataframe thead th {\n",
       "        text-align: right;\n",
       "    }\n",
       "</style>\n",
       "<table border=\"1\" class=\"dataframe\">\n",
       "  <thead>\n",
       "    <tr style=\"text-align: right;\">\n",
       "      <th></th>\n",
       "      <th>emoji_char</th>\n",
       "      <th>score</th>\n",
       "    </tr>\n",
       "    <tr>\n",
       "      <th>emoji_id</th>\n",
       "      <th></th>\n",
       "      <th></th>\n",
       "    </tr>\n",
       "  </thead>\n",
       "  <tbody>\n",
       "    <tr>\n",
       "      <th>1F602</th>\n",
       "      <td>😂</td>\n",
       "      <td>1814832150</td>\n",
       "    </tr>\n",
       "    <tr>\n",
       "      <th>2764</th>\n",
       "      <td>❤️</td>\n",
       "      <td>840619939</td>\n",
       "    </tr>\n",
       "    <tr>\n",
       "      <th>1F60D</th>\n",
       "      <td>😍</td>\n",
       "      <td>680382416</td>\n",
       "    </tr>\n",
       "    <tr>\n",
       "      <th>2665</th>\n",
       "      <td>♥️</td>\n",
       "      <td>652715459</td>\n",
       "    </tr>\n",
       "    <tr>\n",
       "      <th>1F62D</th>\n",
       "      <td>😭</td>\n",
       "      <td>515991922</td>\n",
       "    </tr>\n",
       "    <tr>\n",
       "      <th>1F60A</th>\n",
       "      <td>😊</td>\n",
       "      <td>484540701</td>\n",
       "    </tr>\n",
       "    <tr>\n",
       "      <th>267B</th>\n",
       "      <td>♻️</td>\n",
       "      <td>452489849</td>\n",
       "    </tr>\n",
       "    <tr>\n",
       "      <th>1F612</th>\n",
       "      <td>😒</td>\n",
       "      <td>441690175</td>\n",
       "    </tr>\n",
       "    <tr>\n",
       "      <th>1F495</th>\n",
       "      <td>💕</td>\n",
       "      <td>381679908</td>\n",
       "    </tr>\n",
       "    <tr>\n",
       "      <th>1F618</th>\n",
       "      <td>😘</td>\n",
       "      <td>377847645</td>\n",
       "    </tr>\n",
       "  </tbody>\n",
       "</table>\n",
       "</div>"
      ],
      "text/plain": [
       "         emoji_char       score\n",
       "emoji_id                       \n",
       "1F602             😂  1814832150\n",
       "2764             ❤️   840619939\n",
       "1F60D             😍   680382416\n",
       "2665             ♥️   652715459\n",
       "1F62D             😭   515991922\n",
       "1F60A             😊   484540701\n",
       "267B             ♻️   452489849\n",
       "1F612             😒   441690175\n",
       "1F495             💕   381679908\n",
       "1F618             😘   377847645"
      ]
     },
     "execution_count": 42,
     "metadata": {},
     "output_type": "execute_result"
    }
   ],
   "source": [
    "# Load the results into a pandas dataframe. Set the index to the `emoji_id`\n",
    "df = pd.DataFrame(results[:10], columns=['emoji_char', 'emoji_id', 'score'])\n",
    "df.set_index('emoji_id', inplace=True)\n",
    "df"
   ]
  },
  {
   "cell_type": "code",
   "execution_count": 43,
   "metadata": {},
   "outputs": [],
   "source": [
    "df_reversed = df.iloc[::-1]"
   ]
  },
  {
   "cell_type": "code",
   "execution_count": 44,
   "metadata": {},
   "outputs": [
    {
     "data": {
      "text/html": [
       "<div>\n",
       "<style scoped>\n",
       "    .dataframe tbody tr th:only-of-type {\n",
       "        vertical-align: middle;\n",
       "    }\n",
       "\n",
       "    .dataframe tbody tr th {\n",
       "        vertical-align: top;\n",
       "    }\n",
       "\n",
       "    .dataframe thead th {\n",
       "        text-align: right;\n",
       "    }\n",
       "</style>\n",
       "<table border=\"1\" class=\"dataframe\">\n",
       "  <thead>\n",
       "    <tr style=\"text-align: right;\">\n",
       "      <th></th>\n",
       "      <th>emoji_char</th>\n",
       "      <th>score</th>\n",
       "    </tr>\n",
       "    <tr>\n",
       "      <th>emoji_id</th>\n",
       "      <th></th>\n",
       "      <th></th>\n",
       "    </tr>\n",
       "  </thead>\n",
       "  <tbody>\n",
       "    <tr>\n",
       "      <th>1F618</th>\n",
       "      <td>😘</td>\n",
       "      <td>377847645</td>\n",
       "    </tr>\n",
       "    <tr>\n",
       "      <th>1F495</th>\n",
       "      <td>💕</td>\n",
       "      <td>381679908</td>\n",
       "    </tr>\n",
       "    <tr>\n",
       "      <th>1F612</th>\n",
       "      <td>😒</td>\n",
       "      <td>441690175</td>\n",
       "    </tr>\n",
       "    <tr>\n",
       "      <th>267B</th>\n",
       "      <td>♻️</td>\n",
       "      <td>452489849</td>\n",
       "    </tr>\n",
       "    <tr>\n",
       "      <th>1F60A</th>\n",
       "      <td>😊</td>\n",
       "      <td>484540701</td>\n",
       "    </tr>\n",
       "    <tr>\n",
       "      <th>1F62D</th>\n",
       "      <td>😭</td>\n",
       "      <td>515991922</td>\n",
       "    </tr>\n",
       "    <tr>\n",
       "      <th>2665</th>\n",
       "      <td>♥️</td>\n",
       "      <td>652715459</td>\n",
       "    </tr>\n",
       "    <tr>\n",
       "      <th>1F60D</th>\n",
       "      <td>😍</td>\n",
       "      <td>680382416</td>\n",
       "    </tr>\n",
       "    <tr>\n",
       "      <th>2764</th>\n",
       "      <td>❤️</td>\n",
       "      <td>840619939</td>\n",
       "    </tr>\n",
       "    <tr>\n",
       "      <th>1F602</th>\n",
       "      <td>😂</td>\n",
       "      <td>1814832150</td>\n",
       "    </tr>\n",
       "  </tbody>\n",
       "</table>\n",
       "</div>"
      ],
      "text/plain": [
       "         emoji_char       score\n",
       "emoji_id                       \n",
       "1F618             😘   377847645\n",
       "1F495             💕   381679908\n",
       "1F612             😒   441690175\n",
       "267B             ♻️   452489849\n",
       "1F60A             😊   484540701\n",
       "1F62D             😭   515991922\n",
       "2665             ♥️   652715459\n",
       "1F60D             😍   680382416\n",
       "2764             ❤️   840619939\n",
       "1F602             😂  1814832150"
      ]
     },
     "execution_count": 44,
     "metadata": {},
     "output_type": "execute_result"
    }
   ],
   "source": [
    "df_reversed"
   ]
  },
  {
   "cell_type": "markdown",
   "metadata": {
    "slideshow": {
     "slide_type": "subslide"
    }
   },
   "source": [
    "Plot using Pandas"
   ]
  },
  {
   "cell_type": "code",
   "execution_count": 45,
   "metadata": {
    "nbgrader": {
     "grade": false,
     "grade_id": "cell-9684754419fc6916",
     "locked": false,
     "schema_version": 1,
     "solution": true
    },
    "slideshow": {
     "slide_type": "fragment"
    }
   },
   "outputs": [
    {
     "data": {
      "text/plain": [
       "<AxesSubplot:ylabel='emoji_id'>"
      ]
     },
     "execution_count": 45,
     "metadata": {},
     "output_type": "execute_result"
    },
    {
     "data": {
      "image/png": "[encoded data removed]",
      "text/plain": [
       "<Figure size 576x396 with 1 Axes>"
      ]
     },
     "metadata": {},
     "output_type": "display_data"
    }
   ],
   "source": [
    "# Plot the dataframe as a horizontal bar chart using pandas plotting\n",
    "df_reversed.plot.barh()"
   ]
  },
  {
   "cell_type": "code",
   "execution_count": 46,
   "metadata": {
    "nbgrader": {
     "grade": false,
     "grade_id": "cell-e4fbc88164f5ce01",
     "locked": false,
     "schema_version": 1,
     "solution": true
    }
   },
   "outputs": [],
   "source": [
    "# BONUS: Use Pandas `read_sql_query` to load a query statement directly into the DataFrame\n"
   ]
  },
  {
   "cell_type": "code",
   "execution_count": null,
   "metadata": {},
   "outputs": [],
   "source": []
  }
 ],
 "metadata": {
  "celltoolbar": "Create Assignment",
  "kernelspec": {
   "display_name": "Python 3",
   "language": "python",
   "name": "python3"
  },
  "language_info": {
   "codemirror_mode": {
    "name": "ipython",
    "version": 3
   },
   "file_extension": ".py",
   "mimetype": "text/x-python",
   "name": "python",
   "nbconvert_exporter": "python",
   "pygments_lexer": "ipython3",
   "version": "3.8.5"
  },
  "varInspector": {
   "cols": {
    "lenName": 16,
    "lenType": 16,
    "lenVar": 40
   },
   "kernels_config": {
    "python": {
     "delete_cmd_postfix": "",
     "delete_cmd_prefix": "del ",
     "library": "var_list.py",
     "varRefreshCmd": "print(var_dic_list())"
    },
    "r": {
     "delete_cmd_postfix": ") ",
     "delete_cmd_prefix": "rm(",
     "library": "var_list.r",
     "varRefreshCmd": "cat(var_dic_list()) "
    }
   },
   "types_to_exclude": [
    "module",
    "function",
    "builtin_function_or_method",
    "instance",
    "_Feature"
   ],
   "window_display": false
  }
 },
 "nbformat": 4,
 "nbformat_minor": 2
}
